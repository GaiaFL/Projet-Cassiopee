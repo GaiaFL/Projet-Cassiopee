{
  "nbformat": 4,
  "nbformat_minor": 0,
  "metadata": {
    "colab": {
      "provenance": [],
      "include_colab_link": true
    },
    "kernelspec": {
      "name": "python3",
      "display_name": "Python 3"
    },
    "language_info": {
      "name": "python"
    }
  },
  "cells": [
    {
      "cell_type": "markdown",
      "metadata": {
        "id": "view-in-github",
        "colab_type": "text"
      },
      "source": [
        "<a href=\"https://colab.research.google.com/github/GaiaFL/Projet-Cassiopee/blob/main/Modelo1_gabriel.ipynb\" target=\"_parent\"><img src=\"https://colab.research.google.com/assets/colab-badge.svg\" alt=\"Open In Colab\"/></a>"
      ]
    },
    {
      "cell_type": "markdown",
      "source": [
        "#Imports"
      ],
      "metadata": {
        "id": "PLr0O1rzt07C"
      }
    },
    {
      "cell_type": "code",
      "source": [
        "import pandas as pd\n",
        "import numpy as np\n",
        "import matplotlib.pyplot as plt\n",
        "from sklearn.model_selection import train_test_split\n",
        "import ast\n",
        "from sklearn.metrics import mean_squared_error\n",
        "from math import sqrt\n",
        "import gdown\n",
        "\n",
        "# import libraries\n",
        "import numpy as np\n",
        "import pandas as pd\n",
        "import scipy\n",
        "import matplotlib.pyplot as plt\n",
        "from math import sqrt\n",
        "import seaborn as sns\n",
        "from pprint import pprint\n",
        "\n",
        "# helpers\n",
        "%matplotlib inline\n",
        "from sklearn import preprocessing\n",
        "from sklearn.preprocessing import LabelEncoder\n",
        "\n",
        "# estimators\n",
        "from sklearn import tree\n",
        "from sklearn.ensemble import RandomForestClassifier, GradientBoostingClassifier\n",
        "from sklearn.svm import SVC\n",
        "from sklearn.tree import DecisionTreeClassifier\n",
        "from sklearn.neighbors import KNeighborsClassifier\n",
        "\n",
        "# model metrics\n",
        "from sklearn.metrics import accuracy_score, precision_score, recall_score, f1_score, classification_report, confusion_matrix\n",
        "from sklearn.model_selection import train_test_split, cross_val_score, GridSearchCV"
      ],
      "metadata": {
        "id": "KNwqTd2NT0HT"
      },
      "execution_count": 1,
      "outputs": []
    },
    {
      "cell_type": "markdown",
      "source": [
        "# Load Dataset"
      ],
      "metadata": {
        "id": "LFTD0vbAt5UK"
      }
    },
    {
      "cell_type": "code",
      "source": [
        "from google.colab import drive\n",
        "drive.mount('/content/drive')"
      ],
      "metadata": {
        "colab": {
          "base_uri": "https://localhost:8080/"
        },
        "id": "OjUD0XyPWHLH",
        "outputId": "2e44bba0-a06f-4557-8dee-25c4d475e31e"
      },
      "execution_count": 2,
      "outputs": [
        {
          "output_type": "stream",
          "name": "stdout",
          "text": [
            "Drive already mounted at /content/drive; to attempt to forcibly remount, call drive.mount(\"/content/drive\", force_remount=True).\n"
          ]
        }
      ]
    },
    {
      "cell_type": "code",
      "source": [
        "url = 'https://docs.google.com/spreadsheets/d/1ko0Ly0EcOsKuEj-cCBOkM4CH2cfJKJeC/edit?usp=sharing'\n",
        "file_id = url.split('/')[-2]\n",
        "\n",
        "# URL de download do arquivo\n",
        "download_url = f'https://drive.google.com/uc?id={file_id}'\n",
        "\n",
        "# Caminho local para salvar o arquivo\n",
        "output_path = '/content/drive/MyDrive/Prediction/Database.xlsx'\n",
        "\n",
        "# Faz o download do arquivo do Google Drive\n",
        "gdown.download(download_url, output_path, quiet=False)\n",
        "\n",
        "# Lê o arquivo Excel com o pandas\n",
        "data = pd.read_excel(output_path)"
      ],
      "metadata": {
        "colab": {
          "base_uri": "https://localhost:8080/"
        },
        "id": "mVXYTJ9X5yM0",
        "outputId": "374c8ed6-a747-4b44-aa7e-d87ec05ed16a"
      },
      "execution_count": 3,
      "outputs": [
        {
          "output_type": "stream",
          "name": "stderr",
          "text": [
            "Downloading...\n",
            "From: https://drive.google.com/uc?id=1ko0Ly0EcOsKuEj-cCBOkM4CH2cfJKJeC\n",
            "To: /content/drive/MyDrive/Prediction/Database.xlsx\n",
            "100%|██████████| 11.3k/11.3k [00:00<00:00, 26.7MB/s]\n"
          ]
        }
      ]
    },
    {
      "cell_type": "code",
      "execution_count": 4,
      "metadata": {
        "colab": {
          "base_uri": "https://localhost:8080/"
        },
        "id": "GnKnrcLnRdj5",
        "outputId": "e4a12120-3bb8-4223-8cc4-ab63163a42e6"
      },
      "outputs": [
        {
          "output_type": "stream",
          "name": "stdout",
          "text": [
            "     1   2   3    Average                MAC                 Tag  \\\n",
            "0  -75 -73 -73 -73.666667  04:da:d2:90:09:6e  Forum Exit Maisel    \n",
            "1  -68 -68 -66 -67.333333  04:da:d2:90:09:6e               Exit    \n",
            "2  -51 -53 -57 -53.666667  04:da:d2:90:09:6e        Exit Amph10    \n",
            "3  -46 -46 -46 -46.000000  04:da:d2:90:09:6e              B map    \n",
            "4  -60 -61 -58 -59.666667  04:da:d2:90:09:6e    Exit Main Forum    \n",
            "5  -56 -53 -56 -55.000000  04:da:d2:90:09:6e         Exit ABCDE    \n",
            "6  -55 -55 -50 -53.333333  04:da:d2:90:09:6e       Exit Gumnase    \n",
            "7  -53 -53 -57 -54.333333  04:da:d2:90:09:6e               Nova    \n",
            "8  -42 -39 -40 -40.333333  20:bb:c0:4b:a1:be             Door B    \n",
            "9  -51 -49 -46 -48.666667  20:bb:c0:4b:a1:be           B middle    \n",
            "10 -59 -57 -56 -57.333333  20:bb:c0:4b:a1:be          Corner BD    \n",
            "11 -51 -49 -50 -50.000000  50:06:04:66:72:0e           D middle    \n",
            "12 -58 -57 -61 -58.666667  50:06:04:5b:3e:ce         Corner ACD    \n",
            "13 -48 -49 -52 -49.666667  50:16:7e:13:20:8e           C middle    \n",
            "14 -61 -58 -62 -60.333333  50:16:7e:13:20:8e          Corner CE    \n",
            "15 -38 -38 -38 -38.000000  50:06:04:5b:28:11           E Middle    \n",
            "16 -64 -63 -64 -63.666667  50:06:04:5b:28:11             Door E    \n",
            "17 -71 -68 -66 -68.333333  50:06:04:66:8c:de             Door A    \n",
            "18 -42 -42 -40 -41.333333  50:06:04:66:8c:de           A middle    \n",
            "19 -42 -44 -43 -43.000000  20:bb:c0:4b:9e:ce         F1  Door A    \n",
            "20 -56 -54 -57 -55.666667  20:bb:c0:4b:9e:ce        F1 A middle    \n",
            "21 -64 -62 -58 -61.333333  20:bb:c0:4b:9e:ce      F1 Corner ACD    \n",
            "22 -41 -41 -41 -41.000000  50:06:04:5b:3e:0e        F1 C middle    \n",
            "23 -60 -60 -50 -56.666667  50:06:04:5b:3e:0e       F1 Corner CE    \n",
            "24 -42 -46 -45 -44.333333  50:06:04:5b:1c:6e        F1 E middle    \n",
            "25 -56 -57 -55 -56.000000  50:06:04:5b:1c:6e          F1 door E    \n",
            "26 -35 -35 -34 -34.666667  50:06:04:66:69:5e        F1 D middle    \n",
            "27 -59 -59 -61 -59.666667  50:06:04:66:69:5e       F1 Corner BD    \n",
            "28 -40 -37 -38 -38.333333  20:bb:c0:4b:97:ce        F1 B middle    \n",
            "29 -59 -56 -56 -57.000000  20:bb:c0:4b:97:ce          F1 Door B    \n",
            "30 -66 -64 -65 -65.000000  50:06:04:66:91:de          F2 Door A    \n",
            "31 -49 -45 -42 -45.333333  50:06:04:66:91:de       F2  A Middle    \n",
            "32 -74 -75 -75 -74.666667  50:06:04:66:91:de      F2 Corner ACD    \n",
            "33 -63 -62 -55 -60.000000  50:06:04:66:93:7e        F2 C Middle    \n",
            "34 -65 -65 -56 -62.000000  20:bb:c0:4b:a2:2e       F2 Corner CE    \n",
            "35 -37 -39 -41 -39.000000  20:bb:c0:4b:d5:5e        F2 E middle    \n",
            "36 -60 -59 -59 -59.333333  20:bb:c0:4b:d5:5e          F2 door E    \n",
            "37 -78 -45 -49 -57.333333  50:06:04:66:93:7e        F2 D middle    \n",
            "38 -61 -60 -60 -60.333333  50:06:04:5b:35:3e       F2 Corner BD    \n",
            "39 -47 -49 -47 -47.666667  50:06:04:5b:1f:8e        F2 B middle    \n",
            "40 -60 -66 -66 -64.000000  50:06:04:5b:1f:8e          F2 Door B    \n",
            "\n",
            "                Coordinates  \n",
            "0   [48.6246845, 2.4434301]  \n",
            "1    [48.6246227, 2.443248]  \n",
            "2    [48.624784, 2.4432668]  \n",
            "3   [48.6246377, 2.4430753]  \n",
            "4   [48.6249205, 2.4429265]  \n",
            "5   [48.6248764, 2.4427022]  \n",
            "6    [48.6249921, 2.442615]  \n",
            "7   [48.6250615, 2.4427515]  \n",
            "8   [48.6246393, 2.4430669]  \n",
            "9    [48.6245008, 2.442969]  \n",
            "10   [48.624341, 2.4428235]  \n",
            "11  [48.6244057, 2.4426173]  \n",
            "12  [48.6245132, 2.4424125]  \n",
            "13  [48.6245972, 2.4421708]  \n",
            "14   [48.6246734, 2.441984]  \n",
            "15  [48.6247944, 2.4421121]  \n",
            "16  [48.6249117, 2.4421828]  \n",
            "17   [48.624829, 2.4426351]  \n",
            "18  [48.6246723, 2.4425536]  \n",
            "19   [48.6248135, 2.442622]  \n",
            "20  [48.6246504, 2.4425097]  \n",
            "21  [48.6244782, 2.4423525]  \n",
            "22  [48.6245682, 2.4421889]  \n",
            "23  [48.6246728, 2.4419716]  \n",
            "24  [48.6247942, 2.4420588]  \n",
            "25  [48.6249839, 2.4422247]  \n",
            "26  [48.6243904, 2.4426237]  \n",
            "27  [48.6243219, 2.4428131]  \n",
            "28  [48.6244899, 2.4429359]  \n",
            "29  [48.6246475, 2.4430633]  \n",
            "30  [48.6248013, 2.4426173]  \n",
            "31  [48.6246482, 2.4425094]  \n",
            "32   [48.6244742, 2.442382]  \n",
            "33  [48.6245529, 2.4421832]  \n",
            "34  [48.6246493, 2.4419736]  \n",
            "35  [48.6248017, 2.4420799]  \n",
            "36  [48.6249484, 2.4421969]  \n",
            "37   [48.6243816, 2.442619]  \n",
            "38  [48.6243359, 2.4428222]  \n",
            "39   [48.6245017, 2.442966]  \n",
            "40  [48.6246597, 2.4431005]  \n"
          ]
        }
      ],
      "source": [
        "#path='/content/drive/MyDrive/Prediction/Database.xlsx'\n",
        "data = pd.read_excel(output_path)\n",
        "data = data.drop(data.columns[[1, 2]], axis=1)\n",
        "data.columns = [\"Coordinates\", \"1\", \"2\", \"3\", \"Average\", 'MAC']\n",
        "data['Average'] = data['Average'].apply(pd.to_numeric)\n",
        "data[['Tag', 'Coordinates']] = data.pop('Coordinates').str.split('-', n=1, expand=True)\n",
        "data['Coordinates'] = data['Coordinates'].apply(ast.literal_eval).apply(pd.to_numeric)\n",
        "print(data)"
      ]
    },
    {
      "cell_type": "code",
      "source": [
        "#Each star represents a point in the map, and the darker the star, the higher the average RSSI captured\n",
        "plt.style.use('seaborn')\n",
        "plt.figure(figsize = (10,10))\n",
        "plt.scatter(data['Coordinates'].str[0], data['Coordinates'].str[1], c = data['Average'], marker= '*',s=100,edgecolors='black')\n",
        "plt.xlabel(\"Latitude\")\n",
        "plt.ylabel(\"Longitute\")\n",
        "plt.show()"
      ],
      "metadata": {
        "id": "MCiaF0kAh1by",
        "colab": {
          "base_uri": "https://localhost:8080/",
          "height": 905
        },
        "outputId": "25143ac6-7583-4e5e-882b-eb6ae1ab99f6"
      },
      "execution_count": 5,
      "outputs": [
        {
          "output_type": "stream",
          "name": "stderr",
          "text": [
            "<ipython-input-5-440d0c0f094f>:2: MatplotlibDeprecationWarning: The seaborn styles shipped by Matplotlib are deprecated since 3.6, as they no longer correspond to the styles shipped by seaborn. However, they will remain available as 'seaborn-v0_8-<style>'. Alternatively, directly use the seaborn API instead.\n",
            "  plt.style.use('seaborn')\n"
          ]
        },
        {
          "output_type": "display_data",
          "data": {
            "text/plain": [
              "<Figure size 1000x1000 with 1 Axes>"
            ],
            "image/png": "[encoded data removed]"
          },
          "metadata": {}
        }
      ]
    },
    {
      "cell_type": "markdown",
      "source": [
        "# Split Dataset"
      ],
      "metadata": {
        "id": "ufwGgWM2uArB"
      }
    },
    {
      "cell_type": "code",
      "source": [
        "x = data['Average'].values.reshape(-1,1)\n",
        "y = data['Coordinates'].values\n",
        "\n",
        "X_train, X_test, y_train, y_test = train_test_split(x, y, random_state = 0)"
      ],
      "metadata": {
        "id": "GYzrabVUllHv"
      },
      "execution_count": 6,
      "outputs": []
    },
    {
      "cell_type": "code",
      "source": [
        "print('X_train\\n', X_train)\n",
        "\n",
        "print('X_test\\n', X_test)\n",
        "\n",
        "print('y_train\\n', y_train)\n",
        "\n",
        "print('y_test\\n', y_test)"
      ],
      "metadata": {
        "colab": {
          "base_uri": "https://localhost:8080/"
        },
        "id": "JXlMW3MNOlB9",
        "outputId": "b3b831f2-0c75-4f64-86ef-3da06be3dfe9"
      },
      "execution_count": 7,
      "outputs": [
        {
          "output_type": "stream",
          "name": "stdout",
          "text": [
            "X_train\n",
            " [[-55.66666667]\n",
            " [-60.33333333]\n",
            " [-53.66666667]\n",
            " [-64.        ]\n",
            " [-41.33333333]\n",
            " [-38.        ]\n",
            " [-41.        ]\n",
            " [-63.66666667]\n",
            " [-57.33333333]\n",
            " [-40.33333333]\n",
            " [-49.66666667]\n",
            " [-55.        ]\n",
            " [-68.33333333]\n",
            " [-60.33333333]\n",
            " [-62.        ]\n",
            " [-54.33333333]\n",
            " [-60.        ]\n",
            " [-67.33333333]\n",
            " [-34.66666667]\n",
            " [-58.66666667]\n",
            " [-74.66666667]\n",
            " [-44.33333333]\n",
            " [-53.33333333]\n",
            " [-56.66666667]\n",
            " [-61.33333333]\n",
            " [-43.        ]\n",
            " [-48.66666667]\n",
            " [-47.66666667]\n",
            " [-46.        ]\n",
            " [-73.66666667]]\n",
            "X_test\n",
            " [[-56.        ]\n",
            " [-39.        ]\n",
            " [-57.        ]\n",
            " [-59.66666667]\n",
            " [-57.33333333]\n",
            " [-45.33333333]\n",
            " [-59.66666667]\n",
            " [-50.        ]\n",
            " [-59.33333333]\n",
            " [-65.        ]\n",
            " [-38.33333333]]\n",
            "y_train\n",
            " [array([48.6246504,  2.4425097]) array([48.6243359,  2.4428222])\n",
            " array([48.624784 ,  2.4432668]) array([48.6246597,  2.4431005])\n",
            " array([48.6246723,  2.4425536]) array([48.6247944,  2.4421121])\n",
            " array([48.6245682,  2.4421889]) array([48.6249117,  2.4421828])\n",
            " array([48.6243816,  2.442619 ]) array([48.6246393,  2.4430669])\n",
            " array([48.6245972,  2.4421708]) array([48.6248764,  2.4427022])\n",
            " array([48.624829 ,  2.4426351]) array([48.6246734,  2.441984 ])\n",
            " array([48.6246493,  2.4419736]) array([48.6250615,  2.4427515])\n",
            " array([48.6245529,  2.4421832]) array([48.6246227,  2.443248 ])\n",
            " array([48.6243904,  2.4426237]) array([48.6245132,  2.4424125])\n",
            " array([48.6244742,  2.442382 ]) array([48.6247942,  2.4420588])\n",
            " array([48.6249921,  2.442615 ]) array([48.6246728,  2.4419716])\n",
            " array([48.6244782,  2.4423525]) array([48.6248135,  2.442622 ])\n",
            " array([48.6245008,  2.442969 ]) array([48.6245017,  2.442966 ])\n",
            " array([48.6246377,  2.4430753]) array([48.6246845,  2.4434301])]\n",
            "y_test\n",
            " [array([48.6249839,  2.4422247]) array([48.6248017,  2.4420799])\n",
            " array([48.6246475,  2.4430633]) array([48.6249205,  2.4429265])\n",
            " array([48.624341 ,  2.4428235]) array([48.6246482,  2.4425094])\n",
            " array([48.6243219,  2.4428131]) array([48.6244057,  2.4426173])\n",
            " array([48.6249484,  2.4421969]) array([48.6248013,  2.4426173])\n",
            " array([48.6244899,  2.4429359])]\n"
          ]
        }
      ]
    },
    {
      "cell_type": "markdown",
      "source": [
        "# Algo1\n"
      ],
      "metadata": {
        "id": "67qKCFv5ViZo"
      }
    },
    {
      "cell_type": "code",
      "source": [
        "# prepare models\n",
        "algos_Class = []\n",
        "algos_Class.append(('Decision Tree', DecisionTreeClassifier(criterion='entropy')))\n",
        "algos_Class.append(('Random Forest', RandomForestClassifier()))\n",
        "algos_Class.append(('Support Vector Machines', SVC(kernel='rbf')))\n",
        "algos_Class.append(('K Nearest Neighbors', KNeighborsClassifier()))"
      ],
      "metadata": {
        "id": "BTc2EEKdVj42"
      },
      "execution_count": 8,
      "outputs": []
    },
    {
      "cell_type": "code",
      "source": [
        "# filter warnings\n",
        "import sys\n",
        "import warnings\n",
        "\n",
        "if not sys.warnoptions:\n",
        "    warnings.simplefilter(\"ignore\")"
      ],
      "metadata": {
        "id": "nTnctAUjV97g"
      },
      "execution_count": 9,
      "outputs": []
    },
    {
      "cell_type": "code",
      "source": [
        "# evaluate each model in turn on oob2\n",
        "results = []\n",
        "names = []\n",
        "for name, model in algos_Class:\n",
        "    result = cross_val_score(model, x, y, cv=3, scoring='accuracy')\n",
        "    names.append(name)\n",
        "    #results.append(result)"
      ],
      "metadata": {
        "id": "mNDY3Ty3WZmX",
        "outputId": "185d3033-1117-447d-b756-197cbde78a82",
        "colab": {
          "base_uri": "https://localhost:8080/",
          "height": 744
        }
      },
      "execution_count": 14,
      "outputs": [
        {
          "output_type": "error",
          "ename": "ValueError",
          "evalue": "ignored",
          "traceback": [
            "\u001b[0;31m---------------------------------------------------------------------------\u001b[0m",
            "\u001b[0;31mValueError\u001b[0m                                Traceback (most recent call last)",
            "\u001b[0;32m<ipython-input-14-d432734e3a2a>\u001b[0m in \u001b[0;36m<cell line: 4>\u001b[0;34m()\u001b[0m\n\u001b[1;32m      3\u001b[0m \u001b[0mnames\u001b[0m \u001b[0;34m=\u001b[0m \u001b[0;34m[\u001b[0m\u001b[0;34m]\u001b[0m\u001b[0;34m\u001b[0m\u001b[0;34m\u001b[0m\u001b[0m\n\u001b[1;32m      4\u001b[0m \u001b[0;32mfor\u001b[0m \u001b[0mname\u001b[0m\u001b[0;34m,\u001b[0m \u001b[0mmodel\u001b[0m \u001b[0;32min\u001b[0m \u001b[0malgos_Class\u001b[0m\u001b[0;34m:\u001b[0m\u001b[0;34m\u001b[0m\u001b[0;34m\u001b[0m\u001b[0m\n\u001b[0;32m----> 5\u001b[0;31m     \u001b[0mresult\u001b[0m \u001b[0;34m=\u001b[0m \u001b[0mcross_val_score\u001b[0m\u001b[0;34m(\u001b[0m\u001b[0mmodel\u001b[0m\u001b[0;34m,\u001b[0m \u001b[0mx\u001b[0m\u001b[0;34m,\u001b[0m \u001b[0my\u001b[0m\u001b[0;34m,\u001b[0m \u001b[0mcv\u001b[0m\u001b[0;34m=\u001b[0m\u001b[0;36m3\u001b[0m\u001b[0;34m,\u001b[0m \u001b[0mscoring\u001b[0m\u001b[0;34m=\u001b[0m\u001b[0;34m'accuracy'\u001b[0m\u001b[0;34m)\u001b[0m\u001b[0;34m\u001b[0m\u001b[0;34m\u001b[0m\u001b[0m\n\u001b[0m\u001b[1;32m      6\u001b[0m     \u001b[0mnames\u001b[0m\u001b[0;34m.\u001b[0m\u001b[0mappend\u001b[0m\u001b[0;34m(\u001b[0m\u001b[0mname\u001b[0m\u001b[0;34m)\u001b[0m\u001b[0;34m\u001b[0m\u001b[0;34m\u001b[0m\u001b[0m\n\u001b[1;32m      7\u001b[0m     \u001b[0;31m#results.append(result)\u001b[0m\u001b[0;34m\u001b[0m\u001b[0;34m\u001b[0m\u001b[0m\n",
            "\u001b[0;32m/usr/local/lib/python3.10/dist-packages/sklearn/model_selection/_validation.py\u001b[0m in \u001b[0;36mcross_val_score\u001b[0;34m(estimator, X, y, groups, scoring, cv, n_jobs, verbose, fit_params, pre_dispatch, error_score)\u001b[0m\n\u001b[1;32m    513\u001b[0m     \u001b[0mscorer\u001b[0m \u001b[0;34m=\u001b[0m \u001b[0mcheck_scoring\u001b[0m\u001b[0;34m(\u001b[0m\u001b[0mestimator\u001b[0m\u001b[0;34m,\u001b[0m \u001b[0mscoring\u001b[0m\u001b[0;34m=\u001b[0m\u001b[0mscoring\u001b[0m\u001b[0;34m)\u001b[0m\u001b[0;34m\u001b[0m\u001b[0;34m\u001b[0m\u001b[0m\n\u001b[1;32m    514\u001b[0m \u001b[0;34m\u001b[0m\u001b[0m\n\u001b[0;32m--> 515\u001b[0;31m     cv_results = cross_validate(\n\u001b[0m\u001b[1;32m    516\u001b[0m         \u001b[0mestimator\u001b[0m\u001b[0;34m=\u001b[0m\u001b[0mestimator\u001b[0m\u001b[0;34m,\u001b[0m\u001b[0;34m\u001b[0m\u001b[0;34m\u001b[0m\u001b[0m\n\u001b[1;32m    517\u001b[0m         \u001b[0mX\u001b[0m\u001b[0;34m=\u001b[0m\u001b[0mX\u001b[0m\u001b[0;34m,\u001b[0m\u001b[0;34m\u001b[0m\u001b[0;34m\u001b[0m\u001b[0m\n",
            "\u001b[0;32m/usr/local/lib/python3.10/dist-packages/sklearn/model_selection/_validation.py\u001b[0m in \u001b[0;36mcross_validate\u001b[0;34m(estimator, X, y, groups, scoring, cv, n_jobs, verbose, fit_params, pre_dispatch, return_train_score, return_estimator, error_score)\u001b[0m\n\u001b[1;32m    283\u001b[0m     )\n\u001b[1;32m    284\u001b[0m \u001b[0;34m\u001b[0m\u001b[0m\n\u001b[0;32m--> 285\u001b[0;31m     \u001b[0m_warn_or_raise_about_fit_failures\u001b[0m\u001b[0;34m(\u001b[0m\u001b[0mresults\u001b[0m\u001b[0;34m,\u001b[0m \u001b[0merror_score\u001b[0m\u001b[0;34m)\u001b[0m\u001b[0;34m\u001b[0m\u001b[0;34m\u001b[0m\u001b[0m\n\u001b[0m\u001b[1;32m    286\u001b[0m \u001b[0;34m\u001b[0m\u001b[0m\n\u001b[1;32m    287\u001b[0m     \u001b[0;31m# For callabe scoring, the return type is only know after calling. If the\u001b[0m\u001b[0;34m\u001b[0m\u001b[0;34m\u001b[0m\u001b[0m\n",
            "\u001b[0;32m/usr/local/lib/python3.10/dist-packages/sklearn/model_selection/_validation.py\u001b[0m in \u001b[0;36m_warn_or_raise_about_fit_failures\u001b[0;34m(results, error_score)\u001b[0m\n\u001b[1;32m    365\u001b[0m                 \u001b[0;34mf\"Below are more details about the failures:\\n{fit_errors_summary}\"\u001b[0m\u001b[0;34m\u001b[0m\u001b[0;34m\u001b[0m\u001b[0m\n\u001b[1;32m    366\u001b[0m             )\n\u001b[0;32m--> 367\u001b[0;31m             \u001b[0;32mraise\u001b[0m \u001b[0mValueError\u001b[0m\u001b[0;34m(\u001b[0m\u001b[0mall_fits_failed_message\u001b[0m\u001b[0;34m)\u001b[0m\u001b[0;34m\u001b[0m\u001b[0;34m\u001b[0m\u001b[0m\n\u001b[0m\u001b[1;32m    368\u001b[0m \u001b[0;34m\u001b[0m\u001b[0m\n\u001b[1;32m    369\u001b[0m         \u001b[0;32melse\u001b[0m\u001b[0;34m:\u001b[0m\u001b[0;34m\u001b[0m\u001b[0;34m\u001b[0m\u001b[0m\n",
            "\u001b[0;31mValueError\u001b[0m: \nAll the 3 fits failed.\nIt is very likely that your model is misconfigured.\nYou can try to debug the error by setting error_score='raise'.\n\nBelow are more details about the failures:\n--------------------------------------------------------------------------------\n3 fits failed with the following error:\nTraceback (most recent call last):\n  File \"/usr/local/lib/python3.10/dist-packages/sklearn/model_selection/_validation.py\", line 686, in _fit_and_score\n    estimator.fit(X_train, y_train, **fit_params)\n  File \"/usr/local/lib/python3.10/dist-packages/sklearn/tree/_classes.py\", line 889, in fit\n    super().fit(\n  File \"/usr/local/lib/python3.10/dist-packages/sklearn/tree/_classes.py\", line 186, in fit\n    X, y = self._validate_data(\n  File \"/usr/local/lib/python3.10/dist-packages/sklearn/base.py\", line 582, in _validate_data\n    y = check_array(y, input_name=\"y\", **check_y_params)\n  File \"/usr/local/lib/python3.10/dist-packages/sklearn/utils/validation.py\", line 921, in check_array\n    _assert_all_finite(\n  File \"/usr/local/lib/python3.10/dist-packages/sklearn/utils/validation.py\", line 110, in _assert_all_finite\n    if _object_dtype_isnan(X).any():\nAttributeError: 'bool' object has no attribute 'any'\n"
          ]
        }
      ]
    },
    {
      "cell_type": "code",
      "source": [
        "for i in range(len(names)):\n",
        "    print(names[i], results[i].mean(), results[i].std())"
      ],
      "metadata": {
        "id": "epaY5LkwYYsh",
        "outputId": "928ab71d-5308-4e05-a66f-6eb9a559a5b0",
        "colab": {
          "base_uri": "https://localhost:8080/",
          "height": 182
        }
      },
      "execution_count": 13,
      "outputs": [
        {
          "output_type": "error",
          "ename": "IndexError",
          "evalue": "ignored",
          "traceback": [
            "\u001b[0;31m---------------------------------------------------------------------------\u001b[0m",
            "\u001b[0;31mIndexError\u001b[0m                                Traceback (most recent call last)",
            "\u001b[0;32m<ipython-input-13-ef02c0707c1a>\u001b[0m in \u001b[0;36m<cell line: 1>\u001b[0;34m()\u001b[0m\n\u001b[1;32m      1\u001b[0m \u001b[0;32mfor\u001b[0m \u001b[0mi\u001b[0m \u001b[0;32min\u001b[0m \u001b[0mrange\u001b[0m\u001b[0;34m(\u001b[0m\u001b[0mlen\u001b[0m\u001b[0;34m(\u001b[0m\u001b[0mnames\u001b[0m\u001b[0;34m)\u001b[0m\u001b[0;34m)\u001b[0m\u001b[0;34m:\u001b[0m\u001b[0;34m\u001b[0m\u001b[0;34m\u001b[0m\u001b[0m\n\u001b[0;32m----> 2\u001b[0;31m     \u001b[0mprint\u001b[0m\u001b[0;34m(\u001b[0m\u001b[0mnames\u001b[0m\u001b[0;34m[\u001b[0m\u001b[0mi\u001b[0m\u001b[0;34m]\u001b[0m\u001b[0;34m,\u001b[0m \u001b[0mresults\u001b[0m\u001b[0;34m[\u001b[0m\u001b[0mi\u001b[0m\u001b[0;34m]\u001b[0m\u001b[0;34m.\u001b[0m\u001b[0mmean\u001b[0m\u001b[0;34m(\u001b[0m\u001b[0;34m)\u001b[0m\u001b[0;34m,\u001b[0m \u001b[0mresults\u001b[0m\u001b[0;34m[\u001b[0m\u001b[0mi\u001b[0m\u001b[0;34m]\u001b[0m\u001b[0;34m.\u001b[0m\u001b[0mstd\u001b[0m\u001b[0;34m(\u001b[0m\u001b[0;34m)\u001b[0m\u001b[0;34m)\u001b[0m\u001b[0;34m\u001b[0m\u001b[0;34m\u001b[0m\u001b[0m\n\u001b[0m",
            "\u001b[0;31mIndexError\u001b[0m: list index out of range"
          ]
        }
      ]
    },
    {
      "cell_type": "code",
      "source": [],
      "metadata": {
        "id": "Ku96ocK6YbrL"
      },
      "execution_count": null,
      "outputs": []
    }
  ]
}