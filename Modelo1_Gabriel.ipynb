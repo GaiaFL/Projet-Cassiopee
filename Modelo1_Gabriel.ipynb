{
  "nbformat": 4,
  "nbformat_minor": 0,
  "metadata": {
    "colab": {
      "provenance": [],
      "include_colab_link": true
    },
    "kernelspec": {
      "name": "python3",
      "display_name": "Python 3"
    },
    "language_info": {
      "name": "python"
    }
  },
  "cells": [
    {
      "cell_type": "markdown",
      "metadata": {
        "id": "view-in-github",
        "colab_type": "text"
      },
      "source": [
        "<a href=\"https://colab.research.google.com/github/GaiaFL/Projet-Cassiopee/blob/main/Modelo1_Gabriel.ipynb\" target=\"_parent\"><img src=\"https://colab.research.google.com/assets/colab-badge.svg\" alt=\"Open In Colab\"/></a>"
      ]
    },
    {
      "cell_type": "code",
      "source": [
        "!pip install tabula-py"
      ],
      "metadata": {
        "colab": {
          "base_uri": "https://localhost:8080/"
        },
        "id": "CFrXvicWVEew",
        "outputId": "d8e60b73-ccdc-4c57-c009-fe6ead4eb27d"
      },
      "execution_count": 16,
      "outputs": [
        {
          "output_type": "stream",
          "name": "stdout",
          "text": [
            "Looking in indexes: https://pypi.org/simple, https://us-python.pkg.dev/colab-wheels/public/simple/\n",
            "Requirement already satisfied: tabula-py in /usr/local/lib/python3.10/dist-packages (2.7.0)\n",
            "Requirement already satisfied: pandas>=0.25.3 in /usr/local/lib/python3.10/dist-packages (from tabula-py) (1.5.3)\n",
            "Requirement already satisfied: numpy in /usr/local/lib/python3.10/dist-packages (from tabula-py) (1.22.4)\n",
            "Requirement already satisfied: distro in /usr/local/lib/python3.10/dist-packages (from tabula-py) (1.8.0)\n",
            "Requirement already satisfied: python-dateutil>=2.8.1 in /usr/local/lib/python3.10/dist-packages (from pandas>=0.25.3->tabula-py) (2.8.2)\n",
            "Requirement already satisfied: pytz>=2020.1 in /usr/local/lib/python3.10/dist-packages (from pandas>=0.25.3->tabula-py) (2022.7.1)\n",
            "Requirement already satisfied: six>=1.5 in /usr/local/lib/python3.10/dist-packages (from python-dateutil>=2.8.1->pandas>=0.25.3->tabula-py) (1.16.0)\n"
          ]
        }
      ]
    },
    {
      "cell_type": "markdown",
      "source": [
        "#Imports"
      ],
      "metadata": {
        "id": "PLr0O1rzt07C"
      }
    },
    {
      "cell_type": "code",
      "source": [
        "import pandas as pd\n",
        "import numpy as np\n",
        "import matplotlib.pyplot as plt\n",
        "from sklearn.model_selection import train_test_split\n",
        "import ast\n",
        "from sklearn.metrics import mean_squared_error\n",
        "from math import sqrt\n",
        "import math\n",
        "import gdown\n",
        "from tabula.io import read_pdf\n",
        "import glob"
      ],
      "metadata": {
        "id": "KNwqTd2NT0HT"
      },
      "execution_count": 17,
      "outputs": []
    },
    {
      "cell_type": "markdown",
      "source": [
        "# Load Dataset"
      ],
      "metadata": {
        "id": "LFTD0vbAt5UK"
      }
    },
    {
      "cell_type": "code",
      "source": [
        "from google.colab import drive\n",
        "drive.mount('/content/drive')"
      ],
      "metadata": {
        "id": "OjUD0XyPWHLH",
        "colab": {
          "base_uri": "https://localhost:8080/"
        },
        "outputId": "c3753768-3a30-4dd2-e34d-4599b5975a4a"
      },
      "execution_count": 56,
      "outputs": [
        {
          "output_type": "stream",
          "name": "stdout",
          "text": [
            "Drive already mounted at /content/drive; to attempt to forcibly remount, call drive.mount(\"/content/drive\", force_remount=True).\n"
          ]
        }
      ]
    },
    {
      "cell_type": "code",
      "source": [
        "! wget 'https://raw.githubusercontent.com/GaiaFL/Projet-Cassiopee/main/Database/Dataset%20-%20A0.csv'\n",
        "! wget 'https://raw.githubusercontent.com/GaiaFL/Projet-Cassiopee/main/Database/Dataset%20-%20A1.csv'\n",
        "! wget 'https://raw.githubusercontent.com/GaiaFL/Projet-Cassiopee/main/Database/Dataset%20-%20A2.csv'\n",
        "! wget 'https://raw.githubusercontent.com/GaiaFL/Projet-Cassiopee/main/Database/Dataset%20-%20A3.csv'\n",
        "\n",
        "! wget 'https://raw.githubusercontent.com/GaiaFL/Projet-Cassiopee/main/Database/Dataset%20-%20B0.csv'\n",
        "! wget 'https://raw.githubusercontent.com/GaiaFL/Projet-Cassiopee/main/Database/Dataset%20-%20B1.csv'\n",
        "! wget 'https://raw.githubusercontent.com/GaiaFL/Projet-Cassiopee/main/Database/Dataset%20-%20B2.csv'\n",
        "! wget 'https://raw.githubusercontent.com/GaiaFL/Projet-Cassiopee/main/Database/Dataset%20-%20B3.csv'\n",
        "\n",
        "! wget 'https://raw.githubusercontent.com/GaiaFL/Projet-Cassiopee/main/Database/Dataset%20-%20E0.csv'\n",
        "! wget 'https://raw.githubusercontent.com/GaiaFL/Projet-Cassiopee/main/Database/Dataset%20-%20E1.csv'\n",
        "! wget 'https://raw.githubusercontent.com/GaiaFL/Projet-Cassiopee/main/Database/Dataset%20-%20E2.csv'\n",
        "! wget 'https://raw.githubusercontent.com/GaiaFL/Projet-Cassiopee/main/Database/Dataset%20-%20E3%20(2).csv'\n"
      ],
      "metadata": {
        "colab": {
          "base_uri": "https://localhost:8080/"
        },
        "id": "Q4kizqtYlC9c",
        "outputId": "0601e873-90ea-40de-ea2b-e62318e69917"
      },
      "execution_count": 57,
      "outputs": [
        {
          "output_type": "stream",
          "name": "stdout",
          "text": [
            "--2023-06-10 23:44:48--  https://raw.githubusercontent.com/GaiaFL/Projet-Cassiopee/main/Database/Dataset%20-%20A0.csv\n",
            "Resolving raw.githubusercontent.com (raw.githubusercontent.com)... 185.199.108.133, 185.199.109.133, 185.199.110.133, ...\n",
            "Connecting to raw.githubusercontent.com (raw.githubusercontent.com)|185.199.108.133|:443... connected.\n",
            "HTTP request sent, awaiting response... 200 OK\n",
            "Length: 1718 (1.7K) [text/plain]\n",
            "Saving to: ‘Dataset - A0.csv.3’\n",
            "\n",
            "Dataset - A0.csv.3  100%[===================>]   1.68K  --.-KB/s    in 0s      \n",
            "\n",
            "2023-06-10 23:44:48 (24.0 MB/s) - ‘Dataset - A0.csv.3’ saved [1718/1718]\n",
            "\n",
            "--2023-06-10 23:44:48--  https://raw.githubusercontent.com/GaiaFL/Projet-Cassiopee/main/Database/Dataset%20-%20A1.csv\n",
            "Resolving raw.githubusercontent.com (raw.githubusercontent.com)... 185.199.110.133, 185.199.111.133, 185.199.108.133, ...\n",
            "Connecting to raw.githubusercontent.com (raw.githubusercontent.com)|185.199.110.133|:443... connected.\n",
            "HTTP request sent, awaiting response... 200 OK\n",
            "Length: 1805 (1.8K) [text/plain]\n",
            "Saving to: ‘Dataset - A1.csv.2’\n",
            "\n",
            "Dataset - A1.csv.2  100%[===================>]   1.76K  --.-KB/s    in 0s      \n",
            "\n",
            "2023-06-10 23:44:49 (25.4 MB/s) - ‘Dataset - A1.csv.2’ saved [1805/1805]\n",
            "\n",
            "--2023-06-10 23:44:49--  https://raw.githubusercontent.com/GaiaFL/Projet-Cassiopee/main/Database/Dataset%20-%20A2.csv\n",
            "Resolving raw.githubusercontent.com (raw.githubusercontent.com)... 185.199.108.133, 185.199.109.133, 185.199.110.133, ...\n",
            "Connecting to raw.githubusercontent.com (raw.githubusercontent.com)|185.199.108.133|:443... connected.\n",
            "HTTP request sent, awaiting response... 200 OK\n",
            "Length: 1947 (1.9K) [text/plain]\n",
            "Saving to: ‘Dataset - A2.csv.2’\n",
            "\n",
            "Dataset - A2.csv.2  100%[===================>]   1.90K  --.-KB/s    in 0s      \n",
            "\n",
            "2023-06-10 23:44:49 (26.7 MB/s) - ‘Dataset - A2.csv.2’ saved [1947/1947]\n",
            "\n",
            "--2023-06-10 23:44:49--  https://raw.githubusercontent.com/GaiaFL/Projet-Cassiopee/main/Database/Dataset%20-%20A3.csv\n",
            "Resolving raw.githubusercontent.com (raw.githubusercontent.com)... 185.199.108.133, 185.199.109.133, 185.199.110.133, ...\n",
            "Connecting to raw.githubusercontent.com (raw.githubusercontent.com)|185.199.108.133|:443... connected.\n",
            "HTTP request sent, awaiting response... 200 OK\n",
            "Length: 1363 (1.3K) [text/plain]\n",
            "Saving to: ‘Dataset - A3.csv.2’\n",
            "\n",
            "Dataset - A3.csv.2  100%[===================>]   1.33K  --.-KB/s    in 0s      \n",
            "\n",
            "2023-06-10 23:44:49 (74.7 MB/s) - ‘Dataset - A3.csv.2’ saved [1363/1363]\n",
            "\n",
            "--2023-06-10 23:44:49--  https://raw.githubusercontent.com/GaiaFL/Projet-Cassiopee/main/Database/Dataset%20-%20B0.csv\n",
            "Resolving raw.githubusercontent.com (raw.githubusercontent.com)... 185.199.109.133, 185.199.111.133, 185.199.108.133, ...\n",
            "Connecting to raw.githubusercontent.com (raw.githubusercontent.com)|185.199.109.133|:443... connected.\n",
            "HTTP request sent, awaiting response... 200 OK\n",
            "Length: 1653 (1.6K) [text/plain]\n",
            "Saving to: ‘Dataset - B0.csv.2’\n",
            "\n",
            "Dataset - B0.csv.2  100%[===================>]   1.61K  --.-KB/s    in 0s      \n",
            "\n",
            "2023-06-10 23:44:49 (32.5 MB/s) - ‘Dataset - B0.csv.2’ saved [1653/1653]\n",
            "\n",
            "--2023-06-10 23:44:49--  https://raw.githubusercontent.com/GaiaFL/Projet-Cassiopee/main/Database/Dataset%20-%20B1.csv\n",
            "Resolving raw.githubusercontent.com (raw.githubusercontent.com)... 185.199.108.133, 185.199.109.133, 185.199.110.133, ...\n",
            "Connecting to raw.githubusercontent.com (raw.githubusercontent.com)|185.199.108.133|:443... connected.\n",
            "HTTP request sent, awaiting response... 200 OK\n",
            "Length: 1830 (1.8K) [text/plain]\n",
            "Saving to: ‘Dataset - B1.csv.2’\n",
            "\n",
            "Dataset - B1.csv.2  100%[===================>]   1.79K  --.-KB/s    in 0s      \n",
            "\n",
            "2023-06-10 23:44:50 (23.1 MB/s) - ‘Dataset - B1.csv.2’ saved [1830/1830]\n",
            "\n",
            "--2023-06-10 23:44:50--  https://raw.githubusercontent.com/GaiaFL/Projet-Cassiopee/main/Database/Dataset%20-%20B2.csv\n",
            "Resolving raw.githubusercontent.com (raw.githubusercontent.com)... 185.199.110.133, 185.199.109.133, 185.199.108.133, ...\n",
            "Connecting to raw.githubusercontent.com (raw.githubusercontent.com)|185.199.110.133|:443... connected.\n",
            "HTTP request sent, awaiting response... 200 OK\n",
            "Length: 1426 (1.4K) [text/plain]\n",
            "Saving to: ‘Dataset - B2.csv.2’\n",
            "\n",
            "Dataset - B2.csv.2  100%[===================>]   1.39K  --.-KB/s    in 0s      \n",
            "\n",
            "2023-06-10 23:44:50 (18.5 MB/s) - ‘Dataset - B2.csv.2’ saved [1426/1426]\n",
            "\n",
            "--2023-06-10 23:44:50--  https://raw.githubusercontent.com/GaiaFL/Projet-Cassiopee/main/Database/Dataset%20-%20B3.csv\n",
            "Resolving raw.githubusercontent.com (raw.githubusercontent.com)... 185.199.111.133, 185.199.108.133, 185.199.109.133, ...\n",
            "Connecting to raw.githubusercontent.com (raw.githubusercontent.com)|185.199.111.133|:443... connected.\n",
            "HTTP request sent, awaiting response... 200 OK\n",
            "Length: 1608 (1.6K) [text/plain]\n",
            "Saving to: ‘Dataset - B3.csv.2’\n",
            "\n",
            "Dataset - B3.csv.2  100%[===================>]   1.57K  --.-KB/s    in 0s      \n",
            "\n",
            "2023-06-10 23:44:50 (16.4 MB/s) - ‘Dataset - B3.csv.2’ saved [1608/1608]\n",
            "\n",
            "--2023-06-10 23:44:50--  https://raw.githubusercontent.com/GaiaFL/Projet-Cassiopee/main/Database/Dataset%20-%20E0.csv\n",
            "Resolving raw.githubusercontent.com (raw.githubusercontent.com)... 185.199.108.133, 185.199.109.133, 185.199.110.133, ...\n",
            "Connecting to raw.githubusercontent.com (raw.githubusercontent.com)|185.199.108.133|:443... connected.\n",
            "HTTP request sent, awaiting response... 200 OK\n",
            "Length: 1485 (1.5K) [text/plain]\n",
            "Saving to: ‘Dataset - E0.csv.2’\n",
            "\n",
            "Dataset - E0.csv.2  100%[===================>]   1.45K  --.-KB/s    in 0s      \n",
            "\n",
            "2023-06-10 23:44:50 (17.6 MB/s) - ‘Dataset - E0.csv.2’ saved [1485/1485]\n",
            "\n",
            "--2023-06-10 23:44:50--  https://raw.githubusercontent.com/GaiaFL/Projet-Cassiopee/main/Database/Dataset%20-%20E1.csv\n",
            "Resolving raw.githubusercontent.com (raw.githubusercontent.com)... 185.199.108.133, 185.199.109.133, 185.199.110.133, ...\n",
            "Connecting to raw.githubusercontent.com (raw.githubusercontent.com)|185.199.108.133|:443... connected.\n",
            "HTTP request sent, awaiting response... 200 OK\n",
            "Length: 1387 (1.4K) [text/plain]\n",
            "Saving to: ‘Dataset - E1.csv.2’\n",
            "\n",
            "Dataset - E1.csv.2  100%[===================>]   1.35K  --.-KB/s    in 0s      \n",
            "\n",
            "2023-06-10 23:44:50 (20.9 MB/s) - ‘Dataset - E1.csv.2’ saved [1387/1387]\n",
            "\n",
            "--2023-06-10 23:44:50--  https://raw.githubusercontent.com/GaiaFL/Projet-Cassiopee/main/Database/Dataset%20-%20E2.csv\n",
            "Resolving raw.githubusercontent.com (raw.githubusercontent.com)... 185.199.108.133, 185.199.109.133, 185.199.110.133, ...\n",
            "Connecting to raw.githubusercontent.com (raw.githubusercontent.com)|185.199.108.133|:443... connected.\n",
            "HTTP request sent, awaiting response... 200 OK\n",
            "Length: 1749 (1.7K) [text/plain]\n",
            "Saving to: ‘Dataset - E2.csv.2’\n",
            "\n",
            "Dataset - E2.csv.2  100%[===================>]   1.71K  --.-KB/s    in 0s      \n",
            "\n",
            "2023-06-10 23:44:51 (16.3 MB/s) - ‘Dataset - E2.csv.2’ saved [1749/1749]\n",
            "\n",
            "--2023-06-10 23:44:51--  https://raw.githubusercontent.com/GaiaFL/Projet-Cassiopee/main/Database/Dataset%20-%20E3%20(2).csv\n",
            "Resolving raw.githubusercontent.com (raw.githubusercontent.com)... 185.199.108.133, 185.199.109.133, 185.199.110.133, ...\n",
            "Connecting to raw.githubusercontent.com (raw.githubusercontent.com)|185.199.108.133|:443... connected.\n",
            "HTTP request sent, awaiting response... 200 OK\n",
            "Length: 1507 (1.5K) [text/plain]\n",
            "Saving to: ‘Dataset - E3 (2).csv.2’\n",
            "\n",
            "Dataset - E3 (2).cs 100%[===================>]   1.47K  --.-KB/s    in 0s      \n",
            "\n",
            "2023-06-10 23:44:51 (17.4 MB/s) - ‘Dataset - E3 (2).csv.2’ saved [1507/1507]\n",
            "\n"
          ]
        }
      ]
    },
    {
      "cell_type": "markdown",
      "source": [
        "#DataSet Gabriel "
      ],
      "metadata": {
        "id": "WHwHMX2KFc6H"
      }
    },
    {
      "cell_type": "code",
      "source": [
        "df_A0 = pd.read_csv('Dataset - A0.csv')\n",
        "df_A1 = pd.read_csv('Dataset - A1.csv')\n",
        "df_A2 = pd.read_csv('Dataset - A2.csv')\n",
        "df_A3 = pd.read_csv('Dataset - A3.csv')\n",
        "\n",
        "df_B0 = pd.read_csv('Dataset - B0.csv')\n",
        "df_B1 = pd.read_csv('Dataset - B1.csv')\n",
        "df_B2 = pd.read_csv('Dataset - B2.csv')\n",
        "df_B3 = pd.read_csv('Dataset - B3.csv')\n",
        "\n",
        "\n",
        "df_E0 = pd.read_csv('Dataset - E0.csv')\n",
        "df_E1 = pd.read_csv('Dataset - E1.csv')\n",
        "df_E2 = pd.read_csv('Dataset - E2.csv')\n",
        "df_E3 = pd.read_csv('Dataset - E3 (2).csv')\n"
      ],
      "metadata": {
        "id": "1G_VSf7JSUHj"
      },
      "execution_count": 58,
      "outputs": []
    },
    {
      "cell_type": "markdown",
      "source": [
        "Inserting the places into the data sets"
      ],
      "metadata": {
        "id": "rYZ3RVRBmvTT"
      }
    },
    {
      "cell_type": "code",
      "source": [
        "df_A0['place'] = 'A0'\n",
        "df_A1['place'] = 'A1'\n",
        "df_A2['place'] = 'A2'\n",
        "df_A3['place'] = 'A3'\n",
        "\n",
        "df_B0['place'] = 'B0'\n",
        "df_B1['place'] = 'B1'\n",
        "df_B2['place'] = 'B2'\n",
        "df_B3['place'] = 'B3'\n",
        "\n",
        "df_E0['place'] = 'E0'\n",
        "df_E1['place'] = 'E1'\n",
        "df_E2['place'] = 'E2'\n",
        "df_E3['place'] = 'E3'\n",
        "\n"
      ],
      "metadata": {
        "id": "qVF8yfUemuzM"
      },
      "execution_count": 59,
      "outputs": []
    },
    {
      "cell_type": "code",
      "source": [
        "df_A0['coord'] = '[48.6246723,  2.4425536]'\n",
        "df_A1['coord'] = '[48.6246723,  2.4425536]'\n",
        "df_A2['coord'] = '[48.6246723,  2.4425536]'\n",
        "df_A3['coord'] = '[48.6246723,  2.4425536]'\n",
        "\n",
        "df_B0['coord'] = '[48.6245008, 2.442969]'\n",
        "df_B1['coord'] = '[48.6245008, 2.442969]'\n",
        "df_B2['coord'] = '[48.6245008, 2.442969]'\n",
        "df_B3['coord'] = '[48.6245008, 2.442969]'\n",
        "\n",
        "df_E0['coord'] = '[48.6246723,  2.4425536]'\n",
        "df_E1['coord'] = '[48.6246723,  2.4425536]'\n",
        "df_E2['coord'] = '[48.6246723,  2.4425536]'\n",
        "df_E3['coord'] = '[48.6246723,  2.4425536]'"
      ],
      "metadata": {
        "id": "Sub9eQimsIVa"
      },
      "execution_count": 60,
      "outputs": []
    },
    {
      "cell_type": "code",
      "source": [
        "data = pd.concat([df_A0, df_A1, df_A2, df_A3, df_B0, df_B1, df_B2, df_B3, df_E0, df_E1, df_E2, df_E3])\n",
        "#data['max_rssi'] = data['max_rssi'].astype(int)\n",
        "#data['rssi'] = data['rssi'].astype(int)\n",
        "data['delta'] = data['Max RSSI'] - data['RSSI']\n",
        "data"
      ],
      "metadata": {
        "colab": {
          "base_uri": "https://localhost:8080/",
          "height": 423
        },
        "id": "k5Gm3mHunYgy",
        "outputId": "f3f896b0-2900-4616-b452-78cb1c0393ca"
      },
      "execution_count": 61,
      "outputs": [
        {
          "output_type": "execute_result",
          "data": {
            "text/plain": [
              "       Status       SSID  RSSI        MAC Address  Max RSSI place  \\\n",
              "0   Available    eduroam   -82  04-DA-D2-90-09-61       -82    A0   \n",
              "1   Available  SDN_SCADA   -85  B8-27-EB-20-A7-65       -85    A0   \n",
              "2   Available    eduroam   -70  CC-16-7E-13-20-81       -67    A0   \n",
              "3   Available    eduroam   -78  04-DA-D2-AA-5B-81       -74    A0   \n",
              "4   Available    eduroam   -79  04-DA-D2-AA-5B-8E       -77    A0   \n",
              "..        ...        ...   ...                ...       ...   ...   \n",
              "27  Available    eduroam   -85  50-06-04-5B-1C-61       -84    E3   \n",
              "28  Available    eduroam   -68  20-BB-C0-4B-9F-81       -66    E3   \n",
              "29  Available    eduroam   -65  20-BB-C0-4B-9F-8E       -63    E3   \n",
              "30  Available    eduroam   -48  20-BB-C0-4B-97-B1       -41    E3   \n",
              "31  Available    eduroam   -41  20-BB-C0-4B-97-BE       -41    E3   \n",
              "\n",
              "                       coord  delta  \n",
              "0   [48.6246723,  2.4425536]      0  \n",
              "1   [48.6246723,  2.4425536]      0  \n",
              "2   [48.6246723,  2.4425536]      3  \n",
              "3   [48.6246723,  2.4425536]      4  \n",
              "4   [48.6246723,  2.4425536]      2  \n",
              "..                       ...    ...  \n",
              "27  [48.6246723,  2.4425536]      1  \n",
              "28  [48.6246723,  2.4425536]      2  \n",
              "29  [48.6246723,  2.4425536]      2  \n",
              "30  [48.6246723,  2.4425536]      7  \n",
              "31  [48.6246723,  2.4425536]      0  \n",
              "\n",
              "[421 rows x 8 columns]"
            ],
            "text/html": [
              "\n",
              "  <div id=\"df-48e13281-a9b8-4a0d-b721-266299f83f15\">\n",
              "    <div class=\"colab-df-container\">\n",
              "      <div>\n",
              "<style scoped>\n",
              "    .dataframe tbody tr th:only-of-type {\n",
              "        vertical-align: middle;\n",
              "    }\n",
              "\n",
              "    .dataframe tbody tr th {\n",
              "        vertical-align: top;\n",
              "    }\n",
              "\n",
              "    .dataframe thead th {\n",
              "        text-align: right;\n",
              "    }\n",
              "</style>\n",
              "<table border=\"1\" class=\"dataframe\">\n",
              "  <thead>\n",
              "    <tr style=\"text-align: right;\">\n",
              "      <th></th>\n",
              "      <th>Status</th>\n",
              "      <th>SSID</th>\n",
              "      <th>RSSI</th>\n",
              "      <th>MAC Address</th>\n",
              "      <th>Max RSSI</th>\n",
              "      <th>place</th>\n",
              "      <th>coord</th>\n",
              "      <th>delta</th>\n",
              "    </tr>\n",
              "  </thead>\n",
              "  <tbody>\n",
              "    <tr>\n",
              "      <th>0</th>\n",
              "      <td>Available</td>\n",
              "      <td>eduroam</td>\n",
              "      <td>-82</td>\n",
              "      <td>04-DA-D2-90-09-61</td>\n",
              "      <td>-82</td>\n",
              "      <td>A0</td>\n",
              "      <td>[48.6246723,  2.4425536]</td>\n",
              "      <td>0</td>\n",
              "    </tr>\n",
              "    <tr>\n",
              "      <th>1</th>\n",
              "      <td>Available</td>\n",
              "      <td>SDN_SCADA</td>\n",
              "      <td>-85</td>\n",
              "      <td>B8-27-EB-20-A7-65</td>\n",
              "      <td>-85</td>\n",
              "      <td>A0</td>\n",
              "      <td>[48.6246723,  2.4425536]</td>\n",
              "      <td>0</td>\n",
              "    </tr>\n",
              "    <tr>\n",
              "      <th>2</th>\n",
              "      <td>Available</td>\n",
              "      <td>eduroam</td>\n",
              "      <td>-70</td>\n",
              "      <td>CC-16-7E-13-20-81</td>\n",
              "      <td>-67</td>\n",
              "      <td>A0</td>\n",
              "      <td>[48.6246723,  2.4425536]</td>\n",
              "      <td>3</td>\n",
              "    </tr>\n",
              "    <tr>\n",
              "      <th>3</th>\n",
              "      <td>Available</td>\n",
              "      <td>eduroam</td>\n",
              "      <td>-78</td>\n",
              "      <td>04-DA-D2-AA-5B-81</td>\n",
              "      <td>-74</td>\n",
              "      <td>A0</td>\n",
              "      <td>[48.6246723,  2.4425536]</td>\n",
              "      <td>4</td>\n",
              "    </tr>\n",
              "    <tr>\n",
              "      <th>4</th>\n",
              "      <td>Available</td>\n",
              "      <td>eduroam</td>\n",
              "      <td>-79</td>\n",
              "      <td>04-DA-D2-AA-5B-8E</td>\n",
              "      <td>-77</td>\n",
              "      <td>A0</td>\n",
              "      <td>[48.6246723,  2.4425536]</td>\n",
              "      <td>2</td>\n",
              "    </tr>\n",
              "    <tr>\n",
              "      <th>...</th>\n",
              "      <td>...</td>\n",
              "      <td>...</td>\n",
              "      <td>...</td>\n",
              "      <td>...</td>\n",
              "      <td>...</td>\n",
              "      <td>...</td>\n",
              "      <td>...</td>\n",
              "      <td>...</td>\n",
              "    </tr>\n",
              "    <tr>\n",
              "      <th>27</th>\n",
              "      <td>Available</td>\n",
              "      <td>eduroam</td>\n",
              "      <td>-85</td>\n",
              "      <td>50-06-04-5B-1C-61</td>\n",
              "      <td>-84</td>\n",
              "      <td>E3</td>\n",
              "      <td>[48.6246723,  2.4425536]</td>\n",
              "      <td>1</td>\n",
              "    </tr>\n",
              "    <tr>\n",
              "      <th>28</th>\n",
              "      <td>Available</td>\n",
              "      <td>eduroam</td>\n",
              "      <td>-68</td>\n",
              "      <td>20-BB-C0-4B-9F-81</td>\n",
              "      <td>-66</td>\n",
              "      <td>E3</td>\n",
              "      <td>[48.6246723,  2.4425536]</td>\n",
              "      <td>2</td>\n",
              "    </tr>\n",
              "    <tr>\n",
              "      <th>29</th>\n",
              "      <td>Available</td>\n",
              "      <td>eduroam</td>\n",
              "      <td>-65</td>\n",
              "      <td>20-BB-C0-4B-9F-8E</td>\n",
              "      <td>-63</td>\n",
              "      <td>E3</td>\n",
              "      <td>[48.6246723,  2.4425536]</td>\n",
              "      <td>2</td>\n",
              "    </tr>\n",
              "    <tr>\n",
              "      <th>30</th>\n",
              "      <td>Available</td>\n",
              "      <td>eduroam</td>\n",
              "      <td>-48</td>\n",
              "      <td>20-BB-C0-4B-97-B1</td>\n",
              "      <td>-41</td>\n",
              "      <td>E3</td>\n",
              "      <td>[48.6246723,  2.4425536]</td>\n",
              "      <td>7</td>\n",
              "    </tr>\n",
              "    <tr>\n",
              "      <th>31</th>\n",
              "      <td>Available</td>\n",
              "      <td>eduroam</td>\n",
              "      <td>-41</td>\n",
              "      <td>20-BB-C0-4B-97-BE</td>\n",
              "      <td>-41</td>\n",
              "      <td>E3</td>\n",
              "      <td>[48.6246723,  2.4425536]</td>\n",
              "      <td>0</td>\n",
              "    </tr>\n",
              "  </tbody>\n",
              "</table>\n",
              "<p>421 rows × 8 columns</p>\n",
              "</div>\n",
              "      <button class=\"colab-df-convert\" onclick=\"convertToInteractive('df-48e13281-a9b8-4a0d-b721-266299f83f15')\"\n",
              "              title=\"Convert this dataframe to an interactive table.\"\n",
              "              style=\"display:none;\">\n",
              "        \n",
              "  <svg xmlns=\"http://www.w3.org/2000/svg\" height=\"24px\"viewBox=\"0 0 24 24\"\n",
              "       width=\"24px\">\n",
              "    <path d=\"M0 0h24v24H0V0z\" fill=\"none\"/>\n",
              "    <path d=\"M18.56 5.44l.94 2.06.94-2.06 2.06-.94-2.06-.94-.94-2.06-.94 2.06-2.06.94zm-11 1L8.5 8.5l.94-2.06 2.06-.94-2.06-.94L8.5 2.5l-.94 2.06-2.06.94zm10 10l.94 2.06.94-2.06 2.06-.94-2.06-.94-.94-2.06-.94 2.06-2.06.94z\"/><path d=\"M17.41 7.96l-1.37-1.37c-.4-.4-.92-.59-1.43-.59-.52 0-1.04.2-1.43.59L10.3 9.45l-7.72 7.72c-.78.78-.78 2.05 0 2.83L4 21.41c.39.39.9.59 1.41.59.51 0 1.02-.2 1.41-.59l7.78-7.78 2.81-2.81c.8-.78.8-2.07 0-2.86zM5.41 20L4 18.59l7.72-7.72 1.47 1.35L5.41 20z\"/>\n",
              "  </svg>\n",
              "      </button>\n",
              "      \n",
              "  <style>\n",
              "    .colab-df-container {\n",
              "      display:flex;\n",
              "      flex-wrap:wrap;\n",
              "      gap: 12px;\n",
              "    }\n",
              "\n",
              "    .colab-df-convert {\n",
              "      background-color: #E8F0FE;\n",
              "      border: none;\n",
              "      border-radius: 50%;\n",
              "      cursor: pointer;\n",
              "      display: none;\n",
              "      fill: #1967D2;\n",
              "      height: 32px;\n",
              "      padding: 0 0 0 0;\n",
              "      width: 32px;\n",
              "    }\n",
              "\n",
              "    .colab-df-convert:hover {\n",
              "      background-color: #E2EBFA;\n",
              "      box-shadow: 0px 1px 2px rgba(60, 64, 67, 0.3), 0px 1px 3px 1px rgba(60, 64, 67, 0.15);\n",
              "      fill: #174EA6;\n",
              "    }\n",
              "\n",
              "    [theme=dark] .colab-df-convert {\n",
              "      background-color: #3B4455;\n",
              "      fill: #D2E3FC;\n",
              "    }\n",
              "\n",
              "    [theme=dark] .colab-df-convert:hover {\n",
              "      background-color: #434B5C;\n",
              "      box-shadow: 0px 1px 3px 1px rgba(0, 0, 0, 0.15);\n",
              "      filter: drop-shadow(0px 1px 2px rgba(0, 0, 0, 0.3));\n",
              "      fill: #FFFFFF;\n",
              "    }\n",
              "  </style>\n",
              "\n",
              "      <script>\n",
              "        const buttonEl =\n",
              "          document.querySelector('#df-48e13281-a9b8-4a0d-b721-266299f83f15 button.colab-df-convert');\n",
              "        buttonEl.style.display =\n",
              "          google.colab.kernel.accessAllowed ? 'block' : 'none';\n",
              "\n",
              "        async function convertToInteractive(key) {\n",
              "          const element = document.querySelector('#df-48e13281-a9b8-4a0d-b721-266299f83f15');\n",
              "          const dataTable =\n",
              "            await google.colab.kernel.invokeFunction('convertToInteractive',\n",
              "                                                     [key], {});\n",
              "          if (!dataTable) return;\n",
              "\n",
              "          const docLinkHtml = 'Like what you see? Visit the ' +\n",
              "            '<a target=\"_blank\" href=https://colab.research.google.com/notebooks/data_table.ipynb>data table notebook</a>'\n",
              "            + ' to learn more about interactive tables.';\n",
              "          element.innerHTML = '';\n",
              "          dataTable['output_type'] = 'display_data';\n",
              "          await google.colab.output.renderOutput(dataTable, element);\n",
              "          const docLink = document.createElement('div');\n",
              "          docLink.innerHTML = docLinkHtml;\n",
              "          element.appendChild(docLink);\n",
              "        }\n",
              "      </script>\n",
              "    </div>\n",
              "  </div>\n",
              "  "
            ]
          },
          "metadata": {},
          "execution_count": 61
        }
      ]
    },
    {
      "cell_type": "code",
      "source": [
        "data.csv = data.to_csv(path_or_buf=\"/content/drive/MyDrive/Prediction/data.csv\")"
      ],
      "metadata": {
        "id": "WWXIDim9omLR"
      },
      "execution_count": 62,
      "outputs": []
    },
    {
      "cell_type": "code",
      "source": [
        "rssi_values = []\n",
        "place = ['A0', 'A1', 'A2', 'A3','E0', 'E1', 'E2', 'E3', 'B0', 'B1', 'B2', 'B3']\n",
        "\n",
        "for x in place:\n",
        "  prev = data.loc[data['place'] == x]\n",
        "  #connect = prev[prev['status'] == 'Connected']\n",
        "  prev = prev.sort_values(by='delta', ascending=False)\n",
        "  #rssi_values.append(pd.concat([connect['rssi'].astype(int), prev['rssi'].astype(int)]).values)\n",
        "  rssi_values.append(prev['RSSI'].astype(int).values)\n",
        "x = np.array(rssi_values)\n",
        "#y = places"
      ],
      "metadata": {
        "colab": {
          "base_uri": "https://localhost:8080/"
        },
        "id": "OcWuH-Ql0Oxx",
        "outputId": "ef6a1519-ec16-4d92-ed7a-8759809e981d"
      },
      "execution_count": 70,
      "outputs": [
        {
          "output_type": "stream",
          "name": "stderr",
          "text": [
            "<ipython-input-70-82bed6eeb135>:10: VisibleDeprecationWarning: Creating an ndarray from ragged nested sequences (which is a list-or-tuple of lists-or-tuples-or ndarrays with different lengths or shapes) is deprecated. If you meant to do this, you must specify 'dtype=object' when creating the ndarray.\n",
            "  x = np.array(rssi_values)\n"
          ]
        }
      ]
    },
    {
      "cell_type": "markdown",
      "source": [
        "#Third Dataset"
      ],
      "metadata": {
        "id": "W_kS-OaErbWu"
      }
    },
    {
      "cell_type": "code",
      "source": [
        "df = read_pdf(\"/content/drive/MyDrive/Prediction/Database_3.pdf\", pages=\"all\")"
      ],
      "metadata": {
        "id": "XPrhmfGDrZw5"
      },
      "execution_count": null,
      "outputs": []
    },
    {
      "cell_type": "code",
      "source": [
        "places = ['A0', 'A1', 'A2', 'A3', 'E_U', 'E0', 'E1', 'E2', 'E3', 'E4', 'B0', 'B1', 'B2', 'B3']\n",
        "\n",
        "for x in range(len(df)):\n",
        "  #df[x].loc[len(df[x])] = df[x].columns\n",
        "  if x == 9:\n",
        "    df[x] = df[x].drop(df[x].index[[1,2]])\n",
        "  df[x]['place'] = places[x]\n",
        "  df[x] = df[x].set_axis([\"status\", \"net\", \"rssi\", \"mac\", \"max_rssi\", 'coordinates', 'place'], axis=1)\n",
        "  df[x]['coordinates'] = df[x]['coordinates'].apply(ast.literal_eval).apply(pd.to_numeric)\n"
      ],
      "metadata": {
        "id": "QIPvT-kRrgc0"
      },
      "execution_count": null,
      "outputs": []
    },
    {
      "cell_type": "code",
      "source": [
        "data = pd.concat([df[0], df[1], df[2], df[3], df[4], df[5], df[6], df[7], df[8], df[9], df[10], df[11], df[12], df[13]])\n",
        "data['max_rssi'] = data['max_rssi'].astype(int)\n",
        "data['rssi'] = data['rssi'].astype(int)\n",
        "data['delta'] = data.apply(lambda y: y['max_rssi'] - y['rssi'], axis=1)\n",
        "print(data)"
      ],
      "metadata": {
        "colab": {
          "base_uri": "https://localhost:8080/"
        },
        "id": "iSOkAVBGsLkj",
        "outputId": "198ff4f0-7a09-4005-c427-e7ebf64de66b"
      },
      "execution_count": null,
      "outputs": [
        {
          "output_type": "stream",
          "name": "stdout",
          "text": [
            "       status      net  rssi                mac  max_rssi  \\\n",
            "0   Available  eduroam   -80  CC-16-7E-13-20-81       -79   \n",
            "1   Available  eduroam   -82  04-DA-D2-AA-5B-81       -82   \n",
            "2   Available  eduroam   -78  04-DA-D2-AA-5B-8E       -77   \n",
            "3   Available  eduroam   -74  20-BB-C0-4B-9E-C1       -66   \n",
            "4   Available  eduroam   -83  20-BB-C0-4B-9E-CE       -80   \n",
            "..        ...      ...   ...                ...       ...   \n",
            "2   Available  eduroam   -82  50-06-04-66-8B-5E       -81   \n",
            "3   Available  eduroam   -77  50-06-04-5B-1F-81       -76   \n",
            "4   Available  eduroam   -80  50-06-04-5B-1F-8E       -80   \n",
            "5   Connected  eduroam   -39  50-06-04-5B-1E-D1       -34   \n",
            "6   Available  eduroam   -42  50-06-04-5B-1E-DE       -39   \n",
            "\n",
            "                coordinates place  delta  \n",
            "0   [48.6246723, 2.4425536]    A0      1  \n",
            "1   [48.6246723, 2.4425536]    A0      0  \n",
            "2   [48.6246723, 2.4425536]    A0      1  \n",
            "3   [48.6246723, 2.4425536]    A0      8  \n",
            "4   [48.6246723, 2.4425536]    A0      3  \n",
            "..                      ...   ...    ...  \n",
            "2    [48.6245008, 2.442969]    B3      1  \n",
            "3    [48.6245008, 2.442969]    B3      1  \n",
            "4    [48.6245008, 2.442969]    B3      0  \n",
            "5    [48.6245008, 2.442969]    B3      5  \n",
            "6    [48.6245008, 2.442969]    B3      3  \n",
            "\n",
            "[127 rows x 8 columns]\n"
          ]
        }
      ]
    },
    {
      "cell_type": "code",
      "source": [
        "rssi_values = []\n",
        "\n",
        "for x in places:\n",
        "  prev = data.loc[data['place'] == x]\n",
        "  #connect = prev[prev['status'] == 'Connected']\n",
        "  prev = prev.sort_values(by='delta', ascending=True)\n",
        "  #rssi_values.append(pd.concat([connect['rssi'].astype(int), prev['rssi'].astype(int)]).values)\n",
        "  rssi_values.append(prev['rssi'].astype(int).values)\n",
        "x = np.array(rssi_values)\n",
        "#y = places"
      ],
      "metadata": {
        "colab": {
          "base_uri": "https://localhost:8080/"
        },
        "id": "WC1Ff-vIuIqT",
        "outputId": "09b9f341-9806-4d66-e770-480db87c58c4"
      },
      "execution_count": null,
      "outputs": [
        {
          "output_type": "stream",
          "name": "stderr",
          "text": [
            "<ipython-input-115-0e70104570e4>:9: VisibleDeprecationWarning: Creating an ndarray from ragged nested sequences (which is a list-or-tuple of lists-or-tuples-or ndarrays with different lengths or shapes) is deprecated. If you meant to do this, you must specify 'dtype=object' when creating the ndarray.\n",
            "  x = np.array(rssi_values)\n"
          ]
        }
      ]
    },
    {
      "cell_type": "code",
      "source": [
        "cord = data[\"coordinates\"].drop_duplicates()\n",
        "y = [item for sublist in [zip(places, cord)] for item in sublist]\n",
        "print(y)"
      ],
      "metadata": {
        "colab": {
          "base_uri": "https://localhost:8080/"
        },
        "id": "52KQ691yuN3G",
        "outputId": "2be7a6f2-e62d-46e0-cb7f-0f964a98d91c"
      },
      "execution_count": null,
      "outputs": [
        {
          "output_type": "stream",
          "name": "stdout",
          "text": [
            "[('A0', array([48.6246723,  2.4425536])), ('A1', array([48.6246723,  2.4425536])), ('A2', array([48.6246723,  2.4425536])), ('A3', array([48.6246723,  2.4425536])), ('E_U', array([48.6246723,  2.4425536])), ('E0', array([48.6246723,  2.4425536])), ('E1', array([48.6246723,  2.4425536])), ('E2', array([48.6246723,  2.4425536])), ('E3', array([48.6246723,  2.4425536])), ('E4', array([48.6246723,  2.4425536])), ('B0', array([48.6246723,  2.4425536])), ('B1', array([48.6246723,  2.4425536])), ('B2', array([48.6246723,  2.4425536])), ('B3', array([48.6246723,  2.4425536]))]\n"
          ]
        }
      ]
    },
    {
      "cell_type": "markdown",
      "source": [
        "#Second Dataset"
      ],
      "metadata": {
        "id": "FFL5rGj2rKUG"
      }
    },
    {
      "cell_type": "code",
      "source": [
        "df = read_pdf(\"/content/drive/MyDrive/Prediction/RSSI.pdf\", pages=\"all\")"
      ],
      "metadata": {
        "id": "ptzW-OaTU9iB"
      },
      "execution_count": null,
      "outputs": []
    },
    {
      "cell_type": "code",
      "source": [
        "places = ['A0', 'A1', 'B0', 'B1', 'C0', 'C1', 'D0', 'D1', 'E0', 'E1']\n",
        "for x in range(len(df)):\n",
        "  #df[x].loc[len(df[x])] = df[x].columns\n",
        "  df[x]['place'] = places[x]\n",
        "  df[x] = df[x].set_axis([\"status\", \"net\", \"rssi\", \"mac\", \"max_rssi\", 'coordinates', 'place'], axis=1)\n",
        "  #df[x]['coordinates'] = df[x]['coordinates'].apply(ast.literal_eval).apply(pd.to_numeric)\n",
        "  print(df[x])"
      ],
      "metadata": {
        "id": "1eLKC-UUWJ26"
      },
      "execution_count": null,
      "outputs": []
    },
    {
      "cell_type": "code",
      "source": [
        "data = pd.concat([df[0], df[1], df[2], df[3], df[4], df[5], df[6], df[7], df[8], df[9]])\n",
        "data['max_rssi'] = data['max_rssi'].astype(int)\n",
        "data['rssi'] = data['rssi'].astype(int)\n",
        "data['delta'] = data.apply(lambda y: y['max_rssi'] - y['rssi'], axis=1)\n",
        "print(data)"
      ],
      "metadata": {
        "id": "hu4LnX8hqfO9"
      },
      "execution_count": null,
      "outputs": []
    },
    {
      "cell_type": "code",
      "source": [
        "rssi_values = []\n",
        "\n",
        "for x in places:\n",
        "  prev = data.loc[data['place'] == x]\n",
        "  #connect = prev[prev['status'] == 'Connected']\n",
        "  prev = prev.sort_values(by='delta', ascending=True)\n",
        "  #rssi_values.append(pd.concat([connect['rssi'].astype(int), prev['rssi'].astype(int)]).values)\n",
        "  rssi_values.append(prev['rssi'].astype(int).values)\n",
        "x = np.array(rssi_values)\n",
        "#y = places\n"
      ],
      "metadata": {
        "colab": {
          "base_uri": "https://localhost:8080/"
        },
        "id": "q2nXTrm0r7zq",
        "outputId": "52d03f48-33ce-41cd-eaf0-7b4b27d6ecf3"
      },
      "execution_count": null,
      "outputs": [
        {
          "output_type": "stream",
          "name": "stderr",
          "text": [
            "<ipython-input-113-0e70104570e4>:9: VisibleDeprecationWarning: Creating an ndarray from ragged nested sequences (which is a list-or-tuple of lists-or-tuples-or ndarrays with different lengths or shapes) is deprecated. If you meant to do this, you must specify 'dtype=object' when creating the ndarray.\n",
            "  x = np.array(rssi_values)\n"
          ]
        }
      ]
    },
    {
      "cell_type": "code",
      "source": [
        "cord = data[\"coordinates\"].drop_duplicates().apply(ast.literal_eval).unique()\n",
        "y = [item for sublist in [zip(places, cord)] for item in sublist]\n"
      ],
      "metadata": {
        "id": "CfF_0E9xtSIK"
      },
      "execution_count": null,
      "outputs": []
    },
    {
      "cell_type": "markdown",
      "source": [
        "#First Dataset"
      ],
      "metadata": {
        "id": "yL4YXXGbrPLX"
      }
    },
    {
      "cell_type": "code",
      "source": [
        "url = 'https://docs.google.com/spreadsheets/d/1ko0Ly0EcOsKuEj-cCBOkM4CH2cfJKJeC/edit?usp=sharing'\n",
        "file_id = url.split('/')[-2]\n",
        "\n",
        "# URL de download do arquivo\n",
        "download_url = f'https://drive.google.com/uc?id={file_id}'\n",
        "\n",
        "# Caminho local para salvar o arquivo\n",
        "output_path = '/content/drive/MyDrive/Prediction/Database.xlsx'\n",
        "\n",
        "# Faz o download do arquivo do Google Drive\n",
        "gdown.download(download_url, output_path, quiet=False)\n",
        "\n",
        "# Lê o arquivo Excel com o pandas\n",
        "data = pd.read_excel(output_path)"
      ],
      "metadata": {
        "id": "mVXYTJ9X5yM0",
        "colab": {
          "base_uri": "https://localhost:8080/"
        },
        "outputId": "78b05185-a739-42d2-efe6-7b7fb375c7c2"
      },
      "execution_count": null,
      "outputs": [
        {
          "output_type": "stream",
          "name": "stderr",
          "text": [
            "Downloading...\n",
            "From: https://drive.google.com/uc?id=1ko0Ly0EcOsKuEj-cCBOkM4CH2cfJKJeC\n",
            "To: /content/drive/MyDrive/Prediction/Database.xlsx\n",
            "100%|██████████| 11.3k/11.3k [00:00<00:00, 12.0MB/s]\n"
          ]
        }
      ]
    },
    {
      "cell_type": "code",
      "execution_count": null,
      "metadata": {
        "id": "GnKnrcLnRdj5"
      },
      "outputs": [],
      "source": [
        "#path='/content/drive/MyDrive/Prediction/Database.xlsx'\n",
        "data = pd.read_excel(output_path)\n",
        "data = data.drop(data.columns[[1, 2]], axis=1)\n",
        "data.columns = [\"Coordinates\", \"1\", \"2\", \"3\", \"Average\", \"MAC\"]\n",
        "data['Average'] = data['Average'].astype('float64') \n",
        "data[['Tag', 'Coordinates']] = data.pop('Coordinates').str.split('-', n=1, expand=True)\n",
        "data['Coordinates'] = data['Coordinates'].apply(ast.literal_eval).apply(pd.to_numeric)\n",
        "print(data)"
      ]
    },
    {
      "cell_type": "code",
      "source": [
        "#Each star represents a point in the map, and the darker the star, the higher the average RSSI captured\n",
        "plt.style.use('seaborn')\n",
        "plt.figure(figsize = (10,10))\n",
        "plt.scatter(data['Coordinates'].str[0], data['Coordinates'].str[1], c = data['Average'], marker= '*',s=100,edgecolors='black')\n",
        "plt.xlabel(\"Latitude\")\n",
        "plt.ylabel(\"Longitute\")\n",
        "plt.show()"
      ],
      "metadata": {
        "id": "MCiaF0kAh1by",
        "colab": {
          "base_uri": "https://localhost:8080/",
          "height": 905
        },
        "outputId": "812a77d7-d3c8-49b9-e9e2-60f50ec06a8b"
      },
      "execution_count": null,
      "outputs": [
        {
          "output_type": "stream",
          "name": "stderr",
          "text": [
            "<ipython-input-10-440d0c0f094f>:2: MatplotlibDeprecationWarning: The seaborn styles shipped by Matplotlib are deprecated since 3.6, as they no longer correspond to the styles shipped by seaborn. However, they will remain available as 'seaborn-v0_8-<style>'. Alternatively, directly use the seaborn API instead.\n",
            "  plt.style.use('seaborn')\n"
          ]
        },
        {
          "output_type": "display_data",
          "data": {
            "text/plain": [
              "<Figure size 1000x1000 with 1 Axes>"
            ],
            "image/png": "[encoded data removed]"
          },
          "metadata": {}
        }
      ]
    },
    {
      "cell_type": "markdown",
      "source": [
        "# Split Dataset"
      ],
      "metadata": {
        "id": "ufwGgWM2uArB"
      }
    },
    {
      "cell_type": "code",
      "source": [
        "data.columns"
      ],
      "metadata": {
        "colab": {
          "base_uri": "https://localhost:8080/"
        },
        "id": "5CE2utn9qjIK",
        "outputId": "29d81070-6766-4461-c0b0-6e3f93b95baa"
      },
      "execution_count": 71,
      "outputs": [
        {
          "output_type": "execute_result",
          "data": {
            "text/plain": [
              "Index(['Status', 'SSID', 'RSSI', 'MAC Address', 'Max RSSI', 'place', 'coord',\n",
              "       'delta'],\n",
              "      dtype='object')"
            ]
          },
          "metadata": {},
          "execution_count": 71
        }
      ]
    },
    {
      "cell_type": "code",
      "source": [
        "x = data[['RSSI', 'Max RSSI', 'delta']].values\n",
        "y = data['place']\n",
        "\n",
        "X_train, X_test, y_train, y_test = train_test_split(x, y,test_size=0.3, random_state = 0)"
      ],
      "metadata": {
        "id": "GYzrabVUllHv"
      },
      "execution_count": 72,
      "outputs": []
    },
    {
      "cell_type": "markdown",
      "source": [
        "#KNN Algorithm"
      ],
      "metadata": {
        "id": "NB5SpGGEuD3O"
      }
    },
    {
      "cell_type": "code",
      "source": [
        "class KnnLocalizer:\n",
        "\n",
        "    \"\"\" KNN Regression Class for indoor localization using a 3-dimensional label space\n",
        "        e.g.  Longitude, Latitude, and Floor\n",
        "\n",
        "    Attributes:\n",
        "        features - training data features - Average RSSI\n",
        "        labels -  training data labels - Coordinates\n",
        "        k (int) number of nearest neighbors\n",
        "\n",
        "    \"\"\"\n",
        "\n",
        "    def __init__(self, features, labels, k=3):\n",
        "\n",
        "        self.features = np.array(features)\n",
        "        self.labels = np.array(labels)\n",
        "        self.k = k\n",
        "\n",
        "    @staticmethod\n",
        "    def euclidean_distance(array1, array2): #Calculate the difference between each RSSI\n",
        "\n",
        "        \"\"\" Euclidean distance function without squareroot taken for efficiency\n",
        "\t\tArgs:\n",
        "\t\t\tTwo arrays of equal length\n",
        "\n",
        "\t\tReturns:\n",
        "\t\t\tDistance squared between RSSI1 and RSSI2\n",
        "\t\t\"\"\"\n",
        "        print(array1) #wifi fingerprint\n",
        "        print(array2) #dataset\n",
        "        distance = np.sum((array1-array2)**2)\n",
        "        distance = math.sqrt(distance)  \n",
        "        return distance\n",
        "    \n",
        "    @staticmethod\n",
        "    def timsort(array, element):\n",
        "\n",
        "        \"\"\" Sort method based on Python's sort() function that sorts tuples in descending order\n",
        "\n",
        "        Args:\n",
        "            array (array or list of tuples) array of tuples containing distance and label\n",
        "            element (Int) the index of the element within tuple that is used to sort tuples\n",
        "\n",
        "        Returns:\n",
        "            Array of tuples sorted in descending order at index given by element\n",
        "        \"\"\"\n",
        "\n",
        "        array.sort(key=lambda tup: tup[element])\n",
        "        return array\n",
        "\n",
        "\n",
        "    def knn_regression(self, instance):\n",
        "\n",
        "        \"\"\" KNN regression function modified to return regression predictions\n",
        "         of 3-dimensional labelspace: (RSSI, logitude, latitude).\n",
        "\n",
        "        Args:\n",
        "            Test_features (array) test RSSI for which to predict location\n",
        "\n",
        "        Returns:\n",
        "            An array containing the top 3 predicted coordinates\n",
        "        \"\"\"\n",
        "        size_input = len(instance)\n",
        "        temp_results = []\n",
        "        for i in range(len(self.features)):\n",
        "            \n",
        "            RSSI = self.euclidean_distance(instance, self.features[i][:size_input])\n",
        "            temp_results.append((self.labels[i], RSSI)) #each localisation with the difference of RSSI   \n",
        "        sorted_distances = self.timsort(temp_results, 1)\n",
        "        return sorted_distances[:3] #return the 3 localisation with minimum RSSI \n",
        "\n",
        "    def fit_predict(self, test_data):\n",
        "\n",
        "        \"\"\" KNN Localizer prediction function\n",
        "\n",
        "        Args:\n",
        "        \ttest_data (array) test RSSI\n",
        "\n",
        "        Returns:\n",
        "        \tList of arrays containing coordinate predictions\n",
        "        \"\"\"\n",
        "\n",
        "        predictions = []\n",
        "        for sample in test_data:\n",
        "            predictions.append(self.knn_regression(sample))\n",
        "        return predictions"
      ],
      "metadata": {
        "id": "Taog6wQ0hS2R"
      },
      "execution_count": 73,
      "outputs": []
    },
    {
      "cell_type": "code",
      "metadata": {
        "id": "2xDnP4fyDFWc"
      },
      "source": [
        "MAX_CHARS = 128\n",
        "def get_mean_point(points, debug=False):\n",
        "  # Inicializar variável de retorno\n",
        "  mean_point = [0,0]\n",
        "\n",
        "  try:\n",
        "    if len(points) > 0:\n",
        "      # Calcular o ponto médio do conjunto\n",
        "      for point in points:\n",
        "        mean_point[0] += point[0]\n",
        "        mean_point[1] += point[1]\n",
        "      mean_point = [mean_point[0]/len(points), mean_point[1]/len(points)]\n",
        "\n",
        "  except:\n",
        "    print('[get_mean_point] ERROR: points [' + str(len(points)) + '] = ' + str(points)[:MAX_CHARS])\n",
        "  finally:\n",
        "    if debug:\n",
        "      print('[get_mean_point] debug: mean_point = ' + str(mean_point))\n",
        "\n",
        "  return mean_point"
      ],
      "execution_count": 74,
      "outputs": []
    },
    {
      "cell_type": "code",
      "source": [
        "localizer = KnnLocalizer(x, y, 1)\n",
        "new_predictions = localizer.fit_predict(np.array([[-71, -92, -46, -89]]))\n",
        "print(new_predictions[0][0][0][0])\n",
        "map = [i[0][1] for i in new_predictions[0]]\n",
        "print([i[0][0] for i in new_predictions[0]])\n",
        "pl_x = [i[0][1][0] for i in new_predictions[0]]\n",
        "#print(pl_x)\n",
        "pl_y = [i[0][1][1] for i in new_predictions[0]]\n",
        "#print(pl_y)\n",
        "mean = get_mean_point(map)\n",
        "#print(mean)"
      ],
      "metadata": {
        "id": "XSS4mfUnhiUY",
        "colab": {
          "base_uri": "https://localhost:8080/",
          "height": 415
        },
        "outputId": "a7ecd385-06ad-4052-b9bb-eea67dbcb487"
      },
      "execution_count": 75,
      "outputs": [
        {
          "output_type": "stream",
          "name": "stdout",
          "text": [
            "[-71 -92 -46 -89]\n",
            "[-82 -82   0]\n"
          ]
        },
        {
          "output_type": "error",
          "ename": "ValueError",
          "evalue": "ignored",
          "traceback": [
            "\u001b[0;31m---------------------------------------------------------------------------\u001b[0m",
            "\u001b[0;31mValueError\u001b[0m                                Traceback (most recent call last)",
            "\u001b[0;32m<ipython-input-75-cddf61218aec>\u001b[0m in \u001b[0;36m<cell line: 2>\u001b[0;34m()\u001b[0m\n\u001b[1;32m      1\u001b[0m \u001b[0mlocalizer\u001b[0m \u001b[0;34m=\u001b[0m \u001b[0mKnnLocalizer\u001b[0m\u001b[0;34m(\u001b[0m\u001b[0mx\u001b[0m\u001b[0;34m,\u001b[0m \u001b[0my\u001b[0m\u001b[0;34m,\u001b[0m \u001b[0;36m1\u001b[0m\u001b[0;34m)\u001b[0m\u001b[0;34m\u001b[0m\u001b[0;34m\u001b[0m\u001b[0m\n\u001b[0;32m----> 2\u001b[0;31m \u001b[0mnew_predictions\u001b[0m \u001b[0;34m=\u001b[0m \u001b[0mlocalizer\u001b[0m\u001b[0;34m.\u001b[0m\u001b[0mfit_predict\u001b[0m\u001b[0;34m(\u001b[0m\u001b[0mnp\u001b[0m\u001b[0;34m.\u001b[0m\u001b[0marray\u001b[0m\u001b[0;34m(\u001b[0m\u001b[0;34m[\u001b[0m\u001b[0;34m[\u001b[0m\u001b[0;34m-\u001b[0m\u001b[0;36m71\u001b[0m\u001b[0;34m,\u001b[0m \u001b[0;34m-\u001b[0m\u001b[0;36m92\u001b[0m\u001b[0;34m,\u001b[0m \u001b[0;34m-\u001b[0m\u001b[0;36m46\u001b[0m\u001b[0;34m,\u001b[0m \u001b[0;34m-\u001b[0m\u001b[0;36m89\u001b[0m\u001b[0;34m]\u001b[0m\u001b[0;34m]\u001b[0m\u001b[0;34m)\u001b[0m\u001b[0;34m)\u001b[0m\u001b[0;34m\u001b[0m\u001b[0;34m\u001b[0m\u001b[0m\n\u001b[0m\u001b[1;32m      3\u001b[0m \u001b[0mprint\u001b[0m\u001b[0;34m(\u001b[0m\u001b[0mnew_predictions\u001b[0m\u001b[0;34m[\u001b[0m\u001b[0;36m0\u001b[0m\u001b[0;34m]\u001b[0m\u001b[0;34m[\u001b[0m\u001b[0;36m0\u001b[0m\u001b[0;34m]\u001b[0m\u001b[0;34m[\u001b[0m\u001b[0;36m0\u001b[0m\u001b[0;34m]\u001b[0m\u001b[0;34m[\u001b[0m\u001b[0;36m0\u001b[0m\u001b[0;34m]\u001b[0m\u001b[0;34m)\u001b[0m\u001b[0;34m\u001b[0m\u001b[0;34m\u001b[0m\u001b[0m\n\u001b[1;32m      4\u001b[0m \u001b[0mmap\u001b[0m \u001b[0;34m=\u001b[0m \u001b[0;34m[\u001b[0m\u001b[0mi\u001b[0m\u001b[0;34m[\u001b[0m\u001b[0;36m0\u001b[0m\u001b[0;34m]\u001b[0m\u001b[0;34m[\u001b[0m\u001b[0;36m1\u001b[0m\u001b[0;34m]\u001b[0m \u001b[0;32mfor\u001b[0m \u001b[0mi\u001b[0m \u001b[0;32min\u001b[0m \u001b[0mnew_predictions\u001b[0m\u001b[0;34m[\u001b[0m\u001b[0;36m0\u001b[0m\u001b[0;34m]\u001b[0m\u001b[0;34m]\u001b[0m\u001b[0;34m\u001b[0m\u001b[0;34m\u001b[0m\u001b[0m\n\u001b[1;32m      5\u001b[0m \u001b[0mprint\u001b[0m\u001b[0;34m(\u001b[0m\u001b[0;34m[\u001b[0m\u001b[0mi\u001b[0m\u001b[0;34m[\u001b[0m\u001b[0;36m0\u001b[0m\u001b[0;34m]\u001b[0m\u001b[0;34m[\u001b[0m\u001b[0;36m0\u001b[0m\u001b[0;34m]\u001b[0m \u001b[0;32mfor\u001b[0m \u001b[0mi\u001b[0m \u001b[0;32min\u001b[0m \u001b[0mnew_predictions\u001b[0m\u001b[0;34m[\u001b[0m\u001b[0;36m0\u001b[0m\u001b[0;34m]\u001b[0m\u001b[0;34m]\u001b[0m\u001b[0;34m)\u001b[0m\u001b[0;34m\u001b[0m\u001b[0;34m\u001b[0m\u001b[0m\n",
            "\u001b[0;32m<ipython-input-73-d6521dbf3793>\u001b[0m in \u001b[0;36mfit_predict\u001b[0;34m(self, test_data)\u001b[0m\n\u001b[1;32m     83\u001b[0m         \u001b[0mpredictions\u001b[0m \u001b[0;34m=\u001b[0m \u001b[0;34m[\u001b[0m\u001b[0;34m]\u001b[0m\u001b[0;34m\u001b[0m\u001b[0;34m\u001b[0m\u001b[0m\n\u001b[1;32m     84\u001b[0m         \u001b[0;32mfor\u001b[0m \u001b[0msample\u001b[0m \u001b[0;32min\u001b[0m \u001b[0mtest_data\u001b[0m\u001b[0;34m:\u001b[0m\u001b[0;34m\u001b[0m\u001b[0;34m\u001b[0m\u001b[0m\n\u001b[0;32m---> 85\u001b[0;31m             \u001b[0mpredictions\u001b[0m\u001b[0;34m.\u001b[0m\u001b[0mappend\u001b[0m\u001b[0;34m(\u001b[0m\u001b[0mself\u001b[0m\u001b[0;34m.\u001b[0m\u001b[0mknn_regression\u001b[0m\u001b[0;34m(\u001b[0m\u001b[0msample\u001b[0m\u001b[0;34m)\u001b[0m\u001b[0;34m)\u001b[0m\u001b[0;34m\u001b[0m\u001b[0;34m\u001b[0m\u001b[0m\n\u001b[0m\u001b[1;32m     86\u001b[0m         \u001b[0;32mreturn\u001b[0m \u001b[0mpredictions\u001b[0m\u001b[0;34m\u001b[0m\u001b[0;34m\u001b[0m\u001b[0m\n",
            "\u001b[0;32m<ipython-input-73-d6521dbf3793>\u001b[0m in \u001b[0;36mknn_regression\u001b[0;34m(self, instance)\u001b[0m\n\u001b[1;32m     65\u001b[0m         \u001b[0;32mfor\u001b[0m \u001b[0mi\u001b[0m \u001b[0;32min\u001b[0m \u001b[0mrange\u001b[0m\u001b[0;34m(\u001b[0m\u001b[0mlen\u001b[0m\u001b[0;34m(\u001b[0m\u001b[0mself\u001b[0m\u001b[0;34m.\u001b[0m\u001b[0mfeatures\u001b[0m\u001b[0;34m)\u001b[0m\u001b[0;34m)\u001b[0m\u001b[0;34m:\u001b[0m\u001b[0;34m\u001b[0m\u001b[0;34m\u001b[0m\u001b[0m\n\u001b[1;32m     66\u001b[0m \u001b[0;34m\u001b[0m\u001b[0m\n\u001b[0;32m---> 67\u001b[0;31m             \u001b[0mRSSI\u001b[0m \u001b[0;34m=\u001b[0m \u001b[0mself\u001b[0m\u001b[0;34m.\u001b[0m\u001b[0meuclidean_distance\u001b[0m\u001b[0;34m(\u001b[0m\u001b[0minstance\u001b[0m\u001b[0;34m,\u001b[0m \u001b[0mself\u001b[0m\u001b[0;34m.\u001b[0m\u001b[0mfeatures\u001b[0m\u001b[0;34m[\u001b[0m\u001b[0mi\u001b[0m\u001b[0;34m]\u001b[0m\u001b[0;34m[\u001b[0m\u001b[0;34m:\u001b[0m\u001b[0msize_input\u001b[0m\u001b[0;34m]\u001b[0m\u001b[0;34m)\u001b[0m\u001b[0;34m\u001b[0m\u001b[0;34m\u001b[0m\u001b[0m\n\u001b[0m\u001b[1;32m     68\u001b[0m             \u001b[0mtemp_results\u001b[0m\u001b[0;34m.\u001b[0m\u001b[0mappend\u001b[0m\u001b[0;34m(\u001b[0m\u001b[0;34m(\u001b[0m\u001b[0mself\u001b[0m\u001b[0;34m.\u001b[0m\u001b[0mlabels\u001b[0m\u001b[0;34m[\u001b[0m\u001b[0mi\u001b[0m\u001b[0;34m]\u001b[0m\u001b[0;34m,\u001b[0m \u001b[0mRSSI\u001b[0m\u001b[0;34m)\u001b[0m\u001b[0;34m)\u001b[0m \u001b[0;31m#each localisation with the difference of RSSI\u001b[0m\u001b[0;34m\u001b[0m\u001b[0;34m\u001b[0m\u001b[0m\n\u001b[1;32m     69\u001b[0m         \u001b[0msorted_distances\u001b[0m \u001b[0;34m=\u001b[0m \u001b[0mself\u001b[0m\u001b[0;34m.\u001b[0m\u001b[0mtimsort\u001b[0m\u001b[0;34m(\u001b[0m\u001b[0mtemp_results\u001b[0m\u001b[0;34m,\u001b[0m \u001b[0;36m1\u001b[0m\u001b[0;34m)\u001b[0m\u001b[0;34m\u001b[0m\u001b[0;34m\u001b[0m\u001b[0m\n",
            "\u001b[0;32m<ipython-input-73-d6521dbf3793>\u001b[0m in \u001b[0;36meuclidean_distance\u001b[0;34m(array1, array2)\u001b[0m\n\u001b[1;32m     29\u001b[0m         \u001b[0mprint\u001b[0m\u001b[0;34m(\u001b[0m\u001b[0marray1\u001b[0m\u001b[0;34m)\u001b[0m \u001b[0;31m#wifi fingerprint\u001b[0m\u001b[0;34m\u001b[0m\u001b[0;34m\u001b[0m\u001b[0m\n\u001b[1;32m     30\u001b[0m         \u001b[0mprint\u001b[0m\u001b[0;34m(\u001b[0m\u001b[0marray2\u001b[0m\u001b[0;34m)\u001b[0m \u001b[0;31m#dataset\u001b[0m\u001b[0;34m\u001b[0m\u001b[0;34m\u001b[0m\u001b[0m\n\u001b[0;32m---> 31\u001b[0;31m         \u001b[0mdistance\u001b[0m \u001b[0;34m=\u001b[0m \u001b[0mnp\u001b[0m\u001b[0;34m.\u001b[0m\u001b[0msum\u001b[0m\u001b[0;34m(\u001b[0m\u001b[0;34m(\u001b[0m\u001b[0marray1\u001b[0m\u001b[0;34m-\u001b[0m\u001b[0marray2\u001b[0m\u001b[0;34m)\u001b[0m\u001b[0;34m**\u001b[0m\u001b[0;36m2\u001b[0m\u001b[0;34m)\u001b[0m\u001b[0;34m\u001b[0m\u001b[0;34m\u001b[0m\u001b[0m\n\u001b[0m\u001b[1;32m     32\u001b[0m         \u001b[0mdistance\u001b[0m \u001b[0;34m=\u001b[0m \u001b[0mmath\u001b[0m\u001b[0;34m.\u001b[0m\u001b[0msqrt\u001b[0m\u001b[0;34m(\u001b[0m\u001b[0mdistance\u001b[0m\u001b[0;34m)\u001b[0m\u001b[0;34m\u001b[0m\u001b[0;34m\u001b[0m\u001b[0m\n\u001b[1;32m     33\u001b[0m         \u001b[0;32mreturn\u001b[0m \u001b[0mdistance\u001b[0m\u001b[0;34m\u001b[0m\u001b[0;34m\u001b[0m\u001b[0m\n",
            "\u001b[0;31mValueError\u001b[0m: operands could not be broadcast together with shapes (4,) (3,) "
          ]
        }
      ]
    },
    {
      "cell_type": "code",
      "source": [
        "plt.style.use('seaborn')\n",
        "plt.figure(figsize = (10,10))\n",
        "plt.scatter(pl_x, pl_y, marker= '*',s=100,edgecolors='black')\n",
        "plt.scatter(mean[0], mean[1], marker= '.',s=100,edgecolors='black')"
      ],
      "metadata": {
        "colab": {
          "base_uri": "https://localhost:8080/",
          "height": 715
        },
        "id": "qj7QKkJgYNRE",
        "outputId": "3d7a9561-f21e-4183-9cb9-09acd34d263f"
      },
      "execution_count": null,
      "outputs": [
        {
          "output_type": "stream",
          "name": "stderr",
          "text": [
            "<ipython-input-85-1f716a34974b>:1: MatplotlibDeprecationWarning: The seaborn styles shipped by Matplotlib are deprecated since 3.6, as they no longer correspond to the styles shipped by seaborn. However, they will remain available as 'seaborn-v0_8-<style>'. Alternatively, directly use the seaborn API instead.\n",
            "  plt.style.use('seaborn')\n"
          ]
        },
        {
          "output_type": "execute_result",
          "data": {
            "text/plain": [
              "<matplotlib.collections.PathCollection at 0x7f41dc6195d0>"
            ]
          },
          "metadata": {},
          "execution_count": 85
        },
        {
          "output_type": "display_data",
          "data": {
            "text/plain": [
              "<Figure size 1000x1000 with 1 Axes>"
            ],
            "image/png": "[encoded data removed]"
          },
          "metadata": {}
        }
      ]
    },
    {
      "cell_type": "code",
      "source": [
        "distances = []\n",
        "for x in map:\n",
        "  distances.append(localizer.euclidean_distance(np.array(mean), np.array(x)))\n",
        "\n",
        "min_pos = distances.index(min(distances))\n",
        "pos = new_predictions[0][min_pos]\n",
        "print(pos[0][0])\n",
        "\n"
      ],
      "metadata": {
        "colab": {
          "base_uri": "https://localhost:8080/"
        },
        "id": "yV1-OTWxcOj7",
        "outputId": "e5870c99-e931-4a86-8033-183b21beda51"
      },
      "execution_count": null,
      "outputs": [
        {
          "output_type": "stream",
          "name": "stdout",
          "text": [
            "[48.6246723  2.4425536]\n",
            "[48.6246723  2.4425536]\n",
            "[48.6246723  2.4425536]\n",
            "[48.6246723  2.4425536]\n",
            "[48.6246723  2.4425536]\n",
            "[48.6246723  2.4425536]\n",
            "E1\n"
          ]
        }
      ]
    },
    {
      "cell_type": "markdown",
      "source": [
        "# Comparison of Results"
      ],
      "metadata": {
        "id": "3yqsfqCLuNKn"
      }
    },
    {
      "cell_type": "code",
      "source": [
        "#Needs to compare the predictions with the test dataset\n",
        "new_predictions = np.asarray(new_predictions)\n",
        "print('Predictions made:\\n', new_predictions)\n",
        "print('Testing values\\n', y_test)\n",
        "n = len(y_test)\n",
        "\n",
        "new_predictions_2 = np.split(new_predictions, n)\n",
        "#print(new_predictions_2)\n",
        "\n",
        "y_test_equalized = [arr.flatten() for arr in y_test]\n",
        "print('Testing values equals\\n',y_test_equalized)\n",
        "\n",
        "new_predictions_equalized = [arr.flatten() for arr in new_predictions]\n",
        "print('Predictions made equals:\\n',new_predictions_equalized)\n",
        "\n",
        "mse2 = mean_squared_error(y_test_equalized, new_predictions_2)\n",
        "print('MSE:\\n', mse2)\n",
        " #Gives error, improves it pls"
      ],
      "metadata": {
        "id": "m3Yc3PckObXY"
      },
      "execution_count": null,
      "outputs": []
    },
    {
      "cell_type": "code",
      "source": [
        "\n",
        "#Needs to compare the predictions with the test dataset\n",
        "new_predictions = np.asarray(new_predictions)\n",
        "\n",
        "y_test_div = np.concatenate(y_test)\n",
        "new_predictions_div = np.concatenate(new_predictions)\n",
        "\n",
        "print(new_predictions_div)\n",
        "print(y_test_div)\n",
        "\n",
        "mse = mean_squared_error(y_test_div, new_predictions_div)\n",
        "print(mse) \n",
        "\n",
        " #I tried to concatenate the two arrays but I don't think the result is sufficient"
      ],
      "metadata": {
        "id": "ERO33V9fhsBp"
      },
      "execution_count": null,
      "outputs": []
    },
    {
      "cell_type": "code",
      "source": [
        "2.711674309998789e-07\n"
      ],
      "metadata": {
        "id": "zkJHp_dzRWEe"
      },
      "execution_count": null,
      "outputs": []
    },
    {
      "cell_type": "code",
      "source": [],
      "metadata": {
        "id": "qaKebkU0wgeN"
      },
      "execution_count": null,
      "outputs": []
    }
  ]
}