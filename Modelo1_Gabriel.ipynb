{
  "nbformat": 4,
  "nbformat_minor": 0,
  "metadata": {
    "colab": {
      "provenance": [],
      "include_colab_link": true
    },
    "kernelspec": {
      "name": "python3",
      "display_name": "Python 3"
    },
    "language_info": {
      "name": "python"
    }
  },
  "cells": [
    {
      "cell_type": "markdown",
      "metadata": {
        "id": "view-in-github",
        "colab_type": "text"
      },
      "source": [
        "<a href=\"https://colab.research.google.com/github/GaiaFL/Projet-Cassiopee/blob/main/Modelo1_Gabriel.ipynb\" target=\"_parent\"><img src=\"https://colab.research.google.com/assets/colab-badge.svg\" alt=\"Open In Colab\"/></a>"
      ]
    },
    {
      "cell_type": "code",
      "source": [
        "!pip install tabula-py"
      ],
      "metadata": {
        "colab": {
          "base_uri": "https://localhost:8080/"
        },
        "id": "CFrXvicWVEew",
        "outputId": "060d1b33-e333-4e8e-c08b-29497d17c063"
      },
      "execution_count": 1,
      "outputs": [
        {
          "output_type": "stream",
          "name": "stdout",
          "text": [
            "Looking in indexes: https://pypi.org/simple, https://us-python.pkg.dev/colab-wheels/public/simple/\n",
            "Requirement already satisfied: tabula-py in /usr/local/lib/python3.10/dist-packages (2.7.0)\n",
            "Requirement already satisfied: pandas>=0.25.3 in /usr/local/lib/python3.10/dist-packages (from tabula-py) (1.5.3)\n",
            "Requirement already satisfied: numpy in /usr/local/lib/python3.10/dist-packages (from tabula-py) (1.22.4)\n",
            "Requirement already satisfied: distro in /usr/local/lib/python3.10/dist-packages (from tabula-py) (1.8.0)\n",
            "Requirement already satisfied: python-dateutil>=2.8.1 in /usr/local/lib/python3.10/dist-packages (from pandas>=0.25.3->tabula-py) (2.8.2)\n",
            "Requirement already satisfied: pytz>=2020.1 in /usr/local/lib/python3.10/dist-packages (from pandas>=0.25.3->tabula-py) (2022.7.1)\n",
            "Requirement already satisfied: six>=1.5 in /usr/local/lib/python3.10/dist-packages (from python-dateutil>=2.8.1->pandas>=0.25.3->tabula-py) (1.16.0)\n"
          ]
        }
      ]
    },
    {
      "cell_type": "markdown",
      "source": [
        "#Imports"
      ],
      "metadata": {
        "id": "PLr0O1rzt07C"
      }
    },
    {
      "cell_type": "code",
      "source": [
        "import pandas as pd\n",
        "import numpy as np\n",
        "import matplotlib.pyplot as plt\n",
        "from sklearn.model_selection import train_test_split\n",
        "import ast\n",
        "from sklearn.metrics import mean_squared_error\n",
        "from math import sqrt\n",
        "import math\n",
        "import gdown\n",
        "from tabula.io import read_pdf\n",
        "import glob"
      ],
      "metadata": {
        "id": "KNwqTd2NT0HT"
      },
      "execution_count": 2,
      "outputs": []
    },
    {
      "cell_type": "markdown",
      "source": [
        "# Load Dataset"
      ],
      "metadata": {
        "id": "LFTD0vbAt5UK"
      }
    },
    {
      "cell_type": "code",
      "source": [
        "from google.colab import drive\n",
        "drive.mount('/content/drive')"
      ],
      "metadata": {
        "id": "OjUD0XyPWHLH",
        "colab": {
          "base_uri": "https://localhost:8080/"
        },
        "outputId": "41dfe5e4-20fc-41ed-ff9f-87adc0a4c9ce"
      },
      "execution_count": 3,
      "outputs": [
        {
          "output_type": "stream",
          "name": "stdout",
          "text": [
            "Drive already mounted at /content/drive; to attempt to forcibly remount, call drive.mount(\"/content/drive\", force_remount=True).\n"
          ]
        }
      ]
    },
    {
      "cell_type": "code",
      "source": [
        "! wget 'https://raw.githubusercontent.com/GaiaFL/Projet-Cassiopee/main/Database/Dataset%20-%20A0.csv'\n",
        "! wget 'https://raw.githubusercontent.com/GaiaFL/Projet-Cassiopee/main/Database/Dataset%20-%20A1.csv'\n",
        "! wget 'https://raw.githubusercontent.com/GaiaFL/Projet-Cassiopee/main/Database/Dataset%20-%20A2.csv'\n",
        "! wget 'https://raw.githubusercontent.com/GaiaFL/Projet-Cassiopee/main/Database/Dataset%20-%20A3.csv'\n",
        "\n",
        "! wget 'https://raw.githubusercontent.com/GaiaFL/Projet-Cassiopee/main/Database/Dataset%20-%20B0.csv'\n",
        "! wget 'https://raw.githubusercontent.com/GaiaFL/Projet-Cassiopee/main/Database/Dataset%20-%20B1.csv'\n",
        "! wget 'https://raw.githubusercontent.com/GaiaFL/Projet-Cassiopee/main/Database/Dataset%20-%20B2.csv'\n",
        "! wget 'https://raw.githubusercontent.com/GaiaFL/Projet-Cassiopee/main/Database/Dataset%20-%20B3.csv'\n",
        "\n",
        "! wget 'https://raw.githubusercontent.com/GaiaFL/Projet-Cassiopee/main/Database/Dataset%20-%20E0.csv'\n",
        "! wget 'https://raw.githubusercontent.com/GaiaFL/Projet-Cassiopee/main/Database/Dataset%20-%20E1.csv'\n",
        "! wget 'https://raw.githubusercontent.com/GaiaFL/Projet-Cassiopee/main/Database/Dataset%20-%20E2.csv'\n",
        "! wget 'https://raw.githubusercontent.com/GaiaFL/Projet-Cassiopee/main/Database/Dataset%20-%20E3%20(2).csv'\n"
      ],
      "metadata": {
        "colab": {
          "base_uri": "https://localhost:8080/"
        },
        "id": "Q4kizqtYlC9c",
        "outputId": "bf1c91d0-9e16-4269-e7f8-68a1284759db"
      },
      "execution_count": 4,
      "outputs": [
        {
          "output_type": "stream",
          "name": "stdout",
          "text": [
            "--2023-06-11 18:03:50--  https://raw.githubusercontent.com/GaiaFL/Projet-Cassiopee/main/Database/Dataset%20-%20A0.csv\n",
            "Resolving raw.githubusercontent.com (raw.githubusercontent.com)... 185.199.108.133, 185.199.109.133, 185.199.110.133, ...\n",
            "Connecting to raw.githubusercontent.com (raw.githubusercontent.com)|185.199.108.133|:443... connected.\n",
            "HTTP request sent, awaiting response... 200 OK\n",
            "Length: 1718 (1.7K) [text/plain]\n",
            "Saving to: ‘Dataset - A0.csv.1’\n",
            "\n",
            "\rDataset - A0.csv.1    0%[                    ]       0  --.-KB/s               \rDataset - A0.csv.1  100%[===================>]   1.68K  --.-KB/s    in 0s      \n",
            "\n",
            "2023-06-11 18:03:50 (35.3 MB/s) - ‘Dataset - A0.csv.1’ saved [1718/1718]\n",
            "\n",
            "--2023-06-11 18:03:50--  https://raw.githubusercontent.com/GaiaFL/Projet-Cassiopee/main/Database/Dataset%20-%20A1.csv\n",
            "Resolving raw.githubusercontent.com (raw.githubusercontent.com)... 185.199.108.133, 185.199.109.133, 185.199.110.133, ...\n",
            "Connecting to raw.githubusercontent.com (raw.githubusercontent.com)|185.199.108.133|:443... connected.\n",
            "HTTP request sent, awaiting response... 200 OK\n",
            "Length: 1805 (1.8K) [text/plain]\n",
            "Saving to: ‘Dataset - A1.csv.1’\n",
            "\n",
            "Dataset - A1.csv.1  100%[===================>]   1.76K  --.-KB/s    in 0s      \n",
            "\n",
            "2023-06-11 18:03:50 (33.4 MB/s) - ‘Dataset - A1.csv.1’ saved [1805/1805]\n",
            "\n",
            "--2023-06-11 18:03:50--  https://raw.githubusercontent.com/GaiaFL/Projet-Cassiopee/main/Database/Dataset%20-%20A2.csv\n",
            "Resolving raw.githubusercontent.com (raw.githubusercontent.com)... 185.199.111.133, 185.199.108.133, 185.199.109.133, ...\n",
            "Connecting to raw.githubusercontent.com (raw.githubusercontent.com)|185.199.111.133|:443... connected.\n",
            "HTTP request sent, awaiting response... 200 OK\n",
            "Length: 1947 (1.9K) [text/plain]\n",
            "Saving to: ‘Dataset - A2.csv.1’\n",
            "\n",
            "Dataset - A2.csv.1  100%[===================>]   1.90K  --.-KB/s    in 0s      \n",
            "\n",
            "2023-06-11 18:03:51 (42.4 MB/s) - ‘Dataset - A2.csv.1’ saved [1947/1947]\n",
            "\n",
            "--2023-06-11 18:03:51--  https://raw.githubusercontent.com/GaiaFL/Projet-Cassiopee/main/Database/Dataset%20-%20A3.csv\n",
            "Resolving raw.githubusercontent.com (raw.githubusercontent.com)... 185.199.108.133, 185.199.109.133, 185.199.110.133, ...\n",
            "Connecting to raw.githubusercontent.com (raw.githubusercontent.com)|185.199.108.133|:443... connected.\n",
            "HTTP request sent, awaiting response... 200 OK\n",
            "Length: 1363 (1.3K) [text/plain]\n",
            "Saving to: ‘Dataset - A3.csv.1’\n",
            "\n",
            "Dataset - A3.csv.1  100%[===================>]   1.33K  --.-KB/s    in 0s      \n",
            "\n",
            "2023-06-11 18:03:51 (62.4 MB/s) - ‘Dataset - A3.csv.1’ saved [1363/1363]\n",
            "\n",
            "--2023-06-11 18:03:51--  https://raw.githubusercontent.com/GaiaFL/Projet-Cassiopee/main/Database/Dataset%20-%20B0.csv\n",
            "Resolving raw.githubusercontent.com (raw.githubusercontent.com)... 185.199.108.133, 185.199.109.133, 185.199.110.133, ...\n",
            "Connecting to raw.githubusercontent.com (raw.githubusercontent.com)|185.199.108.133|:443... connected.\n",
            "HTTP request sent, awaiting response... 200 OK\n",
            "Length: 1653 (1.6K) [text/plain]\n",
            "Saving to: ‘Dataset - B0.csv.1’\n",
            "\n",
            "Dataset - B0.csv.1  100%[===================>]   1.61K  --.-KB/s    in 0s      \n",
            "\n",
            "2023-06-11 18:03:51 (22.8 MB/s) - ‘Dataset - B0.csv.1’ saved [1653/1653]\n",
            "\n",
            "--2023-06-11 18:03:51--  https://raw.githubusercontent.com/GaiaFL/Projet-Cassiopee/main/Database/Dataset%20-%20B1.csv\n",
            "Resolving raw.githubusercontent.com (raw.githubusercontent.com)... 185.199.108.133, 185.199.109.133, 185.199.110.133, ...\n",
            "Connecting to raw.githubusercontent.com (raw.githubusercontent.com)|185.199.108.133|:443... connected.\n",
            "HTTP request sent, awaiting response... 200 OK\n",
            "Length: 1830 (1.8K) [text/plain]\n",
            "Saving to: ‘Dataset - B1.csv.1’\n",
            "\n",
            "Dataset - B1.csv.1  100%[===================>]   1.79K  --.-KB/s    in 0s      \n",
            "\n",
            "2023-06-11 18:03:51 (37.2 MB/s) - ‘Dataset - B1.csv.1’ saved [1830/1830]\n",
            "\n",
            "--2023-06-11 18:03:51--  https://raw.githubusercontent.com/GaiaFL/Projet-Cassiopee/main/Database/Dataset%20-%20B2.csv\n",
            "Resolving raw.githubusercontent.com (raw.githubusercontent.com)... 185.199.108.133, 185.199.109.133, 185.199.110.133, ...\n",
            "Connecting to raw.githubusercontent.com (raw.githubusercontent.com)|185.199.108.133|:443... connected.\n",
            "HTTP request sent, awaiting response... 200 OK\n",
            "Length: 1426 (1.4K) [text/plain]\n",
            "Saving to: ‘Dataset - B2.csv.1’\n",
            "\n",
            "Dataset - B2.csv.1  100%[===================>]   1.39K  --.-KB/s    in 0s      \n",
            "\n",
            "2023-06-11 18:03:51 (20.6 MB/s) - ‘Dataset - B2.csv.1’ saved [1426/1426]\n",
            "\n",
            "--2023-06-11 18:03:51--  https://raw.githubusercontent.com/GaiaFL/Projet-Cassiopee/main/Database/Dataset%20-%20B3.csv\n",
            "Resolving raw.githubusercontent.com (raw.githubusercontent.com)... 185.199.108.133, 185.199.109.133, 185.199.110.133, ...\n",
            "Connecting to raw.githubusercontent.com (raw.githubusercontent.com)|185.199.108.133|:443... connected.\n",
            "HTTP request sent, awaiting response... 200 OK\n",
            "Length: 1608 (1.6K) [text/plain]\n",
            "Saving to: ‘Dataset - B3.csv.1’\n",
            "\n",
            "Dataset - B3.csv.1  100%[===================>]   1.57K  --.-KB/s    in 0s      \n",
            "\n",
            "2023-06-11 18:03:51 (35.3 MB/s) - ‘Dataset - B3.csv.1’ saved [1608/1608]\n",
            "\n",
            "--2023-06-11 18:03:51--  https://raw.githubusercontent.com/GaiaFL/Projet-Cassiopee/main/Database/Dataset%20-%20E0.csv\n",
            "Resolving raw.githubusercontent.com (raw.githubusercontent.com)... 185.199.108.133, 185.199.109.133, 185.199.110.133, ...\n",
            "Connecting to raw.githubusercontent.com (raw.githubusercontent.com)|185.199.108.133|:443... connected.\n",
            "HTTP request sent, awaiting response... 200 OK\n",
            "Length: 1485 (1.5K) [text/plain]\n",
            "Saving to: ‘Dataset - E0.csv.1’\n",
            "\n",
            "Dataset - E0.csv.1  100%[===================>]   1.45K  --.-KB/s    in 0s      \n",
            "\n",
            "2023-06-11 18:03:51 (31.4 MB/s) - ‘Dataset - E0.csv.1’ saved [1485/1485]\n",
            "\n",
            "--2023-06-11 18:03:51--  https://raw.githubusercontent.com/GaiaFL/Projet-Cassiopee/main/Database/Dataset%20-%20E1.csv\n",
            "Resolving raw.githubusercontent.com (raw.githubusercontent.com)... 185.199.108.133, 185.199.109.133, 185.199.110.133, ...\n",
            "Connecting to raw.githubusercontent.com (raw.githubusercontent.com)|185.199.108.133|:443... connected.\n",
            "HTTP request sent, awaiting response... 200 OK\n",
            "Length: 1387 (1.4K) [text/plain]\n",
            "Saving to: ‘Dataset - E1.csv.1’\n",
            "\n",
            "Dataset - E1.csv.1  100%[===================>]   1.35K  --.-KB/s    in 0s      \n",
            "\n",
            "2023-06-11 18:03:52 (22.1 MB/s) - ‘Dataset - E1.csv.1’ saved [1387/1387]\n",
            "\n",
            "--2023-06-11 18:03:52--  https://raw.githubusercontent.com/GaiaFL/Projet-Cassiopee/main/Database/Dataset%20-%20E2.csv\n",
            "Resolving raw.githubusercontent.com (raw.githubusercontent.com)... 185.199.108.133, 185.199.109.133, 185.199.110.133, ...\n",
            "Connecting to raw.githubusercontent.com (raw.githubusercontent.com)|185.199.108.133|:443... connected.\n",
            "HTTP request sent, awaiting response... 200 OK\n",
            "Length: 1749 (1.7K) [text/plain]\n",
            "Saving to: ‘Dataset - E2.csv.1’\n",
            "\n",
            "Dataset - E2.csv.1  100%[===================>]   1.71K  --.-KB/s    in 0s      \n",
            "\n",
            "2023-06-11 18:03:52 (27.0 MB/s) - ‘Dataset - E2.csv.1’ saved [1749/1749]\n",
            "\n",
            "--2023-06-11 18:03:52--  https://raw.githubusercontent.com/GaiaFL/Projet-Cassiopee/main/Database/Dataset%20-%20E3%20(2).csv\n",
            "Resolving raw.githubusercontent.com (raw.githubusercontent.com)... 185.199.109.133, 185.199.111.133, 185.199.110.133, ...\n",
            "Connecting to raw.githubusercontent.com (raw.githubusercontent.com)|185.199.109.133|:443... connected.\n",
            "HTTP request sent, awaiting response... 200 OK\n",
            "Length: 1507 (1.5K) [text/plain]\n",
            "Saving to: ‘Dataset - E3 (2).csv.1’\n",
            "\n",
            "Dataset - E3 (2).cs 100%[===================>]   1.47K  --.-KB/s    in 0s      \n",
            "\n",
            "2023-06-11 18:03:52 (19.8 MB/s) - ‘Dataset - E3 (2).csv.1’ saved [1507/1507]\n",
            "\n"
          ]
        }
      ]
    },
    {
      "cell_type": "markdown",
      "source": [
        "#DataSet Gabriel "
      ],
      "metadata": {
        "id": "WHwHMX2KFc6H"
      }
    },
    {
      "cell_type": "code",
      "source": [
        "df_A0 = pd.read_csv('Dataset - A0.csv')\n",
        "df_A1 = pd.read_csv('Dataset - A1.csv')\n",
        "df_A2 = pd.read_csv('Dataset - A2.csv')\n",
        "df_A3 = pd.read_csv('Dataset - A3.csv')\n",
        "\n",
        "df_B0 = pd.read_csv('Dataset - B0.csv')\n",
        "df_B1 = pd.read_csv('Dataset - B1.csv')\n",
        "df_B2 = pd.read_csv('Dataset - B2.csv')\n",
        "df_B3 = pd.read_csv('Dataset - B3.csv')\n",
        "\n",
        "\n",
        "df_E0 = pd.read_csv('Dataset - E0.csv')\n",
        "df_E1 = pd.read_csv('Dataset - E1.csv')\n",
        "df_E2 = pd.read_csv('Dataset - E2.csv')\n",
        "df_E3 = pd.read_csv('Dataset - E3 (2).csv')\n"
      ],
      "metadata": {
        "id": "1G_VSf7JSUHj"
      },
      "execution_count": 5,
      "outputs": []
    },
    {
      "cell_type": "markdown",
      "source": [
        "Inserting the places into the data sets"
      ],
      "metadata": {
        "id": "rYZ3RVRBmvTT"
      }
    },
    {
      "cell_type": "code",
      "source": [
        "df_A0['place'] = 'A0'\n",
        "df_A1['place'] = 'A1'\n",
        "df_A2['place'] = 'A2'\n",
        "df_A3['place'] = 'A3'\n",
        "\n",
        "df_B0['place'] = 'B0'\n",
        "df_B1['place'] = 'B1'\n",
        "df_B2['place'] = 'B2'\n",
        "df_B3['place'] = 'B3'\n",
        "\n",
        "df_E0['place'] = 'E0'\n",
        "df_E1['place'] = 'E1'\n",
        "df_E2['place'] = 'E2'\n",
        "df_E3['place'] = 'E3'\n",
        "\n"
      ],
      "metadata": {
        "id": "qVF8yfUemuzM"
      },
      "execution_count": 6,
      "outputs": []
    },
    {
      "cell_type": "code",
      "source": [
        "df_A0['coord'] = '[48.6246723,  2.4425536]'\n",
        "df_A1['coord'] = '[48.6246723,  2.4425536]'\n",
        "df_A2['coord'] = '[48.6246723,  2.4425536]'\n",
        "df_A3['coord'] = '[48.6246723,  2.4425536]'\n",
        "\n",
        "df_B0['coord'] = '[48.6245008, 2.442969]'\n",
        "df_B1['coord'] = '[48.6245008, 2.442969]'\n",
        "df_B2['coord'] = '[48.6245008, 2.442969]'\n",
        "df_B3['coord'] = '[48.6245008, 2.442969]'\n",
        "\n",
        "df_E0['coord'] = '[48.6246723,  2.4425536]'\n",
        "df_E1['coord'] = '[48.6246723,  2.4425536]'\n",
        "df_E2['coord'] = '[48.6246723,  2.4425536]'\n",
        "df_E3['coord'] = '[48.6246723,  2.4425536]'"
      ],
      "metadata": {
        "id": "Sub9eQimsIVa"
      },
      "execution_count": 7,
      "outputs": []
    },
    {
      "cell_type": "code",
      "source": [
        "data = pd.concat([df_A0, df_A1, df_A2, df_A3, df_B0, df_B1, df_B2, df_B3, df_E0, df_E1, df_E2, df_E3])\n",
        "#data['max_rssi'] = data['max_rssi'].astype(int)\n",
        "#data['rssi'] = data['rssi'].astype(int)\n",
        "#data['delta'] = data['Max RSSI'] - data['RSSI']\n",
        "data"
      ],
      "metadata": {
        "colab": {
          "base_uri": "https://localhost:8080/",
          "height": 423
        },
        "id": "k5Gm3mHunYgy",
        "outputId": "34f4d436-2026-4f74-cc2e-78afdfd1b1ff"
      },
      "execution_count": 8,
      "outputs": [
        {
          "output_type": "execute_result",
          "data": {
            "text/plain": [
              "       Status       SSID  RSSI        MAC Address  Max RSSI place  \\\n",
              "0   Available    eduroam   -82  04-DA-D2-90-09-61       -82    A0   \n",
              "1   Available  SDN_SCADA   -85  B8-27-EB-20-A7-65       -85    A0   \n",
              "2   Available    eduroam   -70  CC-16-7E-13-20-81       -67    A0   \n",
              "3   Available    eduroam   -78  04-DA-D2-AA-5B-81       -74    A0   \n",
              "4   Available    eduroam   -79  04-DA-D2-AA-5B-8E       -77    A0   \n",
              "..        ...        ...   ...                ...       ...   ...   \n",
              "27  Available    eduroam   -85  50-06-04-5B-1C-61       -84    E3   \n",
              "28  Available    eduroam   -68  20-BB-C0-4B-9F-81       -66    E3   \n",
              "29  Available    eduroam   -65  20-BB-C0-4B-9F-8E       -63    E3   \n",
              "30  Available    eduroam   -48  20-BB-C0-4B-97-B1       -41    E3   \n",
              "31  Available    eduroam   -41  20-BB-C0-4B-97-BE       -41    E3   \n",
              "\n",
              "                       coord  \n",
              "0   [48.6246723,  2.4425536]  \n",
              "1   [48.6246723,  2.4425536]  \n",
              "2   [48.6246723,  2.4425536]  \n",
              "3   [48.6246723,  2.4425536]  \n",
              "4   [48.6246723,  2.4425536]  \n",
              "..                       ...  \n",
              "27  [48.6246723,  2.4425536]  \n",
              "28  [48.6246723,  2.4425536]  \n",
              "29  [48.6246723,  2.4425536]  \n",
              "30  [48.6246723,  2.4425536]  \n",
              "31  [48.6246723,  2.4425536]  \n",
              "\n",
              "[421 rows x 7 columns]"
            ],
            "text/html": [
              "\n",
              "  <div id=\"df-b250679e-1371-4e18-b5f5-6287e7346a5f\">\n",
              "    <div class=\"colab-df-container\">\n",
              "      <div>\n",
              "<style scoped>\n",
              "    .dataframe tbody tr th:only-of-type {\n",
              "        vertical-align: middle;\n",
              "    }\n",
              "\n",
              "    .dataframe tbody tr th {\n",
              "        vertical-align: top;\n",
              "    }\n",
              "\n",
              "    .dataframe thead th {\n",
              "        text-align: right;\n",
              "    }\n",
              "</style>\n",
              "<table border=\"1\" class=\"dataframe\">\n",
              "  <thead>\n",
              "    <tr style=\"text-align: right;\">\n",
              "      <th></th>\n",
              "      <th>Status</th>\n",
              "      <th>SSID</th>\n",
              "      <th>RSSI</th>\n",
              "      <th>MAC Address</th>\n",
              "      <th>Max RSSI</th>\n",
              "      <th>place</th>\n",
              "      <th>coord</th>\n",
              "    </tr>\n",
              "  </thead>\n",
              "  <tbody>\n",
              "    <tr>\n",
              "      <th>0</th>\n",
              "      <td>Available</td>\n",
              "      <td>eduroam</td>\n",
              "      <td>-82</td>\n",
              "      <td>04-DA-D2-90-09-61</td>\n",
              "      <td>-82</td>\n",
              "      <td>A0</td>\n",
              "      <td>[48.6246723,  2.4425536]</td>\n",
              "    </tr>\n",
              "    <tr>\n",
              "      <th>1</th>\n",
              "      <td>Available</td>\n",
              "      <td>SDN_SCADA</td>\n",
              "      <td>-85</td>\n",
              "      <td>B8-27-EB-20-A7-65</td>\n",
              "      <td>-85</td>\n",
              "      <td>A0</td>\n",
              "      <td>[48.6246723,  2.4425536]</td>\n",
              "    </tr>\n",
              "    <tr>\n",
              "      <th>2</th>\n",
              "      <td>Available</td>\n",
              "      <td>eduroam</td>\n",
              "      <td>-70</td>\n",
              "      <td>CC-16-7E-13-20-81</td>\n",
              "      <td>-67</td>\n",
              "      <td>A0</td>\n",
              "      <td>[48.6246723,  2.4425536]</td>\n",
              "    </tr>\n",
              "    <tr>\n",
              "      <th>3</th>\n",
              "      <td>Available</td>\n",
              "      <td>eduroam</td>\n",
              "      <td>-78</td>\n",
              "      <td>04-DA-D2-AA-5B-81</td>\n",
              "      <td>-74</td>\n",
              "      <td>A0</td>\n",
              "      <td>[48.6246723,  2.4425536]</td>\n",
              "    </tr>\n",
              "    <tr>\n",
              "      <th>4</th>\n",
              "      <td>Available</td>\n",
              "      <td>eduroam</td>\n",
              "      <td>-79</td>\n",
              "      <td>04-DA-D2-AA-5B-8E</td>\n",
              "      <td>-77</td>\n",
              "      <td>A0</td>\n",
              "      <td>[48.6246723,  2.4425536]</td>\n",
              "    </tr>\n",
              "    <tr>\n",
              "      <th>...</th>\n",
              "      <td>...</td>\n",
              "      <td>...</td>\n",
              "      <td>...</td>\n",
              "      <td>...</td>\n",
              "      <td>...</td>\n",
              "      <td>...</td>\n",
              "      <td>...</td>\n",
              "    </tr>\n",
              "    <tr>\n",
              "      <th>27</th>\n",
              "      <td>Available</td>\n",
              "      <td>eduroam</td>\n",
              "      <td>-85</td>\n",
              "      <td>50-06-04-5B-1C-61</td>\n",
              "      <td>-84</td>\n",
              "      <td>E3</td>\n",
              "      <td>[48.6246723,  2.4425536]</td>\n",
              "    </tr>\n",
              "    <tr>\n",
              "      <th>28</th>\n",
              "      <td>Available</td>\n",
              "      <td>eduroam</td>\n",
              "      <td>-68</td>\n",
              "      <td>20-BB-C0-4B-9F-81</td>\n",
              "      <td>-66</td>\n",
              "      <td>E3</td>\n",
              "      <td>[48.6246723,  2.4425536]</td>\n",
              "    </tr>\n",
              "    <tr>\n",
              "      <th>29</th>\n",
              "      <td>Available</td>\n",
              "      <td>eduroam</td>\n",
              "      <td>-65</td>\n",
              "      <td>20-BB-C0-4B-9F-8E</td>\n",
              "      <td>-63</td>\n",
              "      <td>E3</td>\n",
              "      <td>[48.6246723,  2.4425536]</td>\n",
              "    </tr>\n",
              "    <tr>\n",
              "      <th>30</th>\n",
              "      <td>Available</td>\n",
              "      <td>eduroam</td>\n",
              "      <td>-48</td>\n",
              "      <td>20-BB-C0-4B-97-B1</td>\n",
              "      <td>-41</td>\n",
              "      <td>E3</td>\n",
              "      <td>[48.6246723,  2.4425536]</td>\n",
              "    </tr>\n",
              "    <tr>\n",
              "      <th>31</th>\n",
              "      <td>Available</td>\n",
              "      <td>eduroam</td>\n",
              "      <td>-41</td>\n",
              "      <td>20-BB-C0-4B-97-BE</td>\n",
              "      <td>-41</td>\n",
              "      <td>E3</td>\n",
              "      <td>[48.6246723,  2.4425536]</td>\n",
              "    </tr>\n",
              "  </tbody>\n",
              "</table>\n",
              "<p>421 rows × 7 columns</p>\n",
              "</div>\n",
              "      <button class=\"colab-df-convert\" onclick=\"convertToInteractive('df-b250679e-1371-4e18-b5f5-6287e7346a5f')\"\n",
              "              title=\"Convert this dataframe to an interactive table.\"\n",
              "              style=\"display:none;\">\n",
              "        \n",
              "  <svg xmlns=\"http://www.w3.org/2000/svg\" height=\"24px\"viewBox=\"0 0 24 24\"\n",
              "       width=\"24px\">\n",
              "    <path d=\"M0 0h24v24H0V0z\" fill=\"none\"/>\n",
              "    <path d=\"M18.56 5.44l.94 2.06.94-2.06 2.06-.94-2.06-.94-.94-2.06-.94 2.06-2.06.94zm-11 1L8.5 8.5l.94-2.06 2.06-.94-2.06-.94L8.5 2.5l-.94 2.06-2.06.94zm10 10l.94 2.06.94-2.06 2.06-.94-2.06-.94-.94-2.06-.94 2.06-2.06.94z\"/><path d=\"M17.41 7.96l-1.37-1.37c-.4-.4-.92-.59-1.43-.59-.52 0-1.04.2-1.43.59L10.3 9.45l-7.72 7.72c-.78.78-.78 2.05 0 2.83L4 21.41c.39.39.9.59 1.41.59.51 0 1.02-.2 1.41-.59l7.78-7.78 2.81-2.81c.8-.78.8-2.07 0-2.86zM5.41 20L4 18.59l7.72-7.72 1.47 1.35L5.41 20z\"/>\n",
              "  </svg>\n",
              "      </button>\n",
              "      \n",
              "  <style>\n",
              "    .colab-df-container {\n",
              "      display:flex;\n",
              "      flex-wrap:wrap;\n",
              "      gap: 12px;\n",
              "    }\n",
              "\n",
              "    .colab-df-convert {\n",
              "      background-color: #E8F0FE;\n",
              "      border: none;\n",
              "      border-radius: 50%;\n",
              "      cursor: pointer;\n",
              "      display: none;\n",
              "      fill: #1967D2;\n",
              "      height: 32px;\n",
              "      padding: 0 0 0 0;\n",
              "      width: 32px;\n",
              "    }\n",
              "\n",
              "    .colab-df-convert:hover {\n",
              "      background-color: #E2EBFA;\n",
              "      box-shadow: 0px 1px 2px rgba(60, 64, 67, 0.3), 0px 1px 3px 1px rgba(60, 64, 67, 0.15);\n",
              "      fill: #174EA6;\n",
              "    }\n",
              "\n",
              "    [theme=dark] .colab-df-convert {\n",
              "      background-color: #3B4455;\n",
              "      fill: #D2E3FC;\n",
              "    }\n",
              "\n",
              "    [theme=dark] .colab-df-convert:hover {\n",
              "      background-color: #434B5C;\n",
              "      box-shadow: 0px 1px 3px 1px rgba(0, 0, 0, 0.15);\n",
              "      filter: drop-shadow(0px 1px 2px rgba(0, 0, 0, 0.3));\n",
              "      fill: #FFFFFF;\n",
              "    }\n",
              "  </style>\n",
              "\n",
              "      <script>\n",
              "        const buttonEl =\n",
              "          document.querySelector('#df-b250679e-1371-4e18-b5f5-6287e7346a5f button.colab-df-convert');\n",
              "        buttonEl.style.display =\n",
              "          google.colab.kernel.accessAllowed ? 'block' : 'none';\n",
              "\n",
              "        async function convertToInteractive(key) {\n",
              "          const element = document.querySelector('#df-b250679e-1371-4e18-b5f5-6287e7346a5f');\n",
              "          const dataTable =\n",
              "            await google.colab.kernel.invokeFunction('convertToInteractive',\n",
              "                                                     [key], {});\n",
              "          if (!dataTable) return;\n",
              "\n",
              "          const docLinkHtml = 'Like what you see? Visit the ' +\n",
              "            '<a target=\"_blank\" href=https://colab.research.google.com/notebooks/data_table.ipynb>data table notebook</a>'\n",
              "            + ' to learn more about interactive tables.';\n",
              "          element.innerHTML = '';\n",
              "          dataTable['output_type'] = 'display_data';\n",
              "          await google.colab.output.renderOutput(dataTable, element);\n",
              "          const docLink = document.createElement('div');\n",
              "          docLink.innerHTML = docLinkHtml;\n",
              "          element.appendChild(docLink);\n",
              "        }\n",
              "      </script>\n",
              "    </div>\n",
              "  </div>\n",
              "  "
            ]
          },
          "metadata": {},
          "execution_count": 8
        }
      ]
    },
    {
      "cell_type": "code",
      "source": [
        "teste = data[data['Status'].isin(['Connected'])]\n",
        "teste"
      ],
      "metadata": {
        "id": "7dqmwxnmgXxZ"
      },
      "execution_count": null,
      "outputs": []
    },
    {
      "cell_type": "code",
      "source": [
        "data.csv = data.to_csv(path_or_buf=\"/content/drive/MyDrive/Prediction/data.csv\")"
      ],
      "metadata": {
        "id": "WWXIDim9omLR"
      },
      "execution_count": 9,
      "outputs": []
    },
    {
      "cell_type": "code",
      "source": [
        "rssi_values = []\n",
        "place = ['A0', 'A1', 'A2', 'A3','E0', 'E1', 'E2', 'E3', 'B0', 'B1', 'B2', 'B3']\n",
        "\n",
        "for x in place:\n",
        "  prev = data.loc[data['place'] == x]\n",
        "  #connect = prev[prev['status'] == 'Connected']\n",
        "  #eraseait\n",
        "  #prev = prev.sort_values(by='delta', ascending=False)\n",
        "  #rssi_values.append(pd.concat([connect['rssi'].astype(int), prev['rssi'].astype(int)]).values)\n",
        "  rssi_values.append(prev['RSSI'].astype(int).values)\n",
        "x = np.array(rssi_values)\n",
        "#y = places"
      ],
      "metadata": {
        "colab": {
          "base_uri": "https://localhost:8080/"
        },
        "id": "OcWuH-Ql0Oxx",
        "outputId": "5bf842a0-1739-472c-8969-c9251143adcd"
      },
      "execution_count": 10,
      "outputs": [
        {
          "output_type": "stream",
          "name": "stderr",
          "text": [
            "<ipython-input-10-82bed6eeb135>:10: VisibleDeprecationWarning: Creating an ndarray from ragged nested sequences (which is a list-or-tuple of lists-or-tuples-or ndarrays with different lengths or shapes) is deprecated. If you meant to do this, you must specify 'dtype=object' when creating the ndarray.\n",
            "  x = np.array(rssi_values)\n"
          ]
        }
      ]
    },
    {
      "cell_type": "markdown",
      "source": [
        "# Split Dataset"
      ],
      "metadata": {
        "id": "ufwGgWM2uArB"
      }
    },
    {
      "cell_type": "code",
      "source": [
        "data.columns"
      ],
      "metadata": {
        "colab": {
          "base_uri": "https://localhost:8080/"
        },
        "id": "5CE2utn9qjIK",
        "outputId": "58aeb6fb-3472-450c-9ce8-9d106e7886ce"
      },
      "execution_count": 10,
      "outputs": [
        {
          "output_type": "execute_result",
          "data": {
            "text/plain": [
              "Index(['Status', 'SSID', 'RSSI', 'MAC Address', 'Max RSSI', 'place', 'coord'], dtype='object')"
            ]
          },
          "metadata": {},
          "execution_count": 10
        }
      ]
    },
    {
      "cell_type": "code",
      "source": [
        "x = data[['RSSI', 'MAC Address']].values\n",
        "y = data['place']\n",
        "\n",
        "X_train, X_test, y_train, y_test = train_test_split(x, y,test_size=0.3, random_state = 0)\n"
      ],
      "metadata": {
        "id": "GYzrabVUllHv"
      },
      "execution_count": 23,
      "outputs": []
    },
    {
      "cell_type": "markdown",
      "source": [
        "#KNN Algorithm"
      ],
      "metadata": {
        "id": "NB5SpGGEuD3O"
      }
    },
    {
      "cell_type": "code",
      "source": [
        "class KnnLocalizer:\n",
        "\n",
        "    \"\"\" KNN Regression Class for indoor localization using a 3-dimensional label space\n",
        "        e.g.  Longitude, Latitude, and Floor\n",
        "\n",
        "    Attributes:\n",
        "        features - training data features - Average RSSI\n",
        "        labels -  training data labels - Coordinates\n",
        "        k (int) number of nearest neighbors\n",
        "\n",
        "    \"\"\"\n",
        "\n",
        "    def __init__(self, features, labels, k=3):\n",
        "\n",
        "        self.features = np.array(features)\n",
        "        self.labels = np.array(labels)\n",
        "        self.k = k\n",
        "\n",
        "    @staticmethod\n",
        "    def euclidean_distance(array1, array2): #Calculate the difference between each RSSI\n",
        "\n",
        "        \"\"\" Euclidean distance function without squareroot taken for efficiency\n",
        "\t\tArgs:\n",
        "\t\t\tTwo arrays of equal length\n",
        "\n",
        "\t\tReturns:\n",
        "\t\t\tDistance squared between RSSI1 and RSSI2\n",
        "\t\t\"\"\"\n",
        "        print(array1) #wifi fingerprint\n",
        "        print(array2) #dataset\n",
        "        distance = np.sum((array1-array2)**2)\n",
        "        distance = math.sqrt(distance)  \n",
        "        return distance\n",
        "    \n",
        "    @staticmethod\n",
        "    def timsort(array, element):\n",
        "\n",
        "        \"\"\" Sort method based on Python's sort() function that sorts tuples in descending order\n",
        "\n",
        "        Args:\n",
        "            array (array or list of tuples) array of tuples containing distance and label\n",
        "            element (Int) the index of the element within tuple that is used to sort tuples\n",
        "\n",
        "        Returns:\n",
        "            Array of tuples sorted in descending order at index given by element\n",
        "        \"\"\"\n",
        "\n",
        "        array.sort(key=lambda tup: tup[element])\n",
        "        return array\n",
        "\n",
        "\n",
        "    def knn_regression(self, instance):\n",
        "\n",
        "        \"\"\" KNN regression function modified to return regression predictions\n",
        "         of 3-dimensional labelspace: (RSSI, logitude, latitude).\n",
        "\n",
        "        Args:\n",
        "            Test_features (array) test RSSI for which to predict location\n",
        "\n",
        "        Returns:\n",
        "            An array containing the top 3 predicted coordinates\n",
        "        \"\"\"\n",
        "        size_input = len(instance)\n",
        "        temp_results = []\n",
        "        for i in range(len(self.features)):\n",
        "            \n",
        "            RSSI = self.euclidean_distance(instance, self.features[i])\n",
        "            temp_results.append((self.labels[i], RSSI)) #each localisation with the difference of RSSI   \n",
        "        sorted_distances = self.timsort(temp_results, 1)\n",
        "        return sorted_distances[:3] #return the 3 localisation with minimum RSSI \n",
        "\n",
        "    def fit_predict(self, test_data):\n",
        "\n",
        "        \"\"\" KNN Localizer prediction function\n",
        "\n",
        "        Args:\n",
        "        \ttest_data (array) test RSSI\n",
        "\n",
        "        Returns:\n",
        "        \tList of arrays containing coordinate predictions\n",
        "        \"\"\"\n",
        "\n",
        "        predictions = []\n",
        "        for sample in test_data:\n",
        "            predictions.append(self.knn_regression(sample))\n",
        "        return predictions"
      ],
      "metadata": {
        "id": "Taog6wQ0hS2R"
      },
      "execution_count": 31,
      "outputs": []
    },
    {
      "cell_type": "code",
      "metadata": {
        "id": "2xDnP4fyDFWc"
      },
      "source": [
        "MAX_CHARS = 128\n",
        "def get_mean_point(points, debug=False):\n",
        "  # Inicializar variável de retorno\n",
        "  mean_point = [0,0]\n",
        "\n",
        "  try:\n",
        "    if len(points) > 0:\n",
        "      # Calcular o ponto médio do conjunto\n",
        "      for point in points:\n",
        "        mean_point[0] += point[0]\n",
        "        mean_point[1] += point[1]\n",
        "      mean_point = [mean_point[0]/len(points), mean_point[1]/len(points)]\n",
        "\n",
        "  except:\n",
        "    print('[get_mean_point] ERROR: points [' + str(len(points)) + '] = ' + str(points)[:MAX_CHARS])\n",
        "  finally:\n",
        "    if debug:\n",
        "      print('[get_mean_point] debug: mean_point = ' + str(mean_point))\n",
        "\n",
        "  return mean_point"
      ],
      "execution_count": 28,
      "outputs": []
    },
    {
      "cell_type": "code",
      "source": [
        "#client input \n",
        "mac = \"50-06-04-66-91-D1\"\n",
        "#mac = mac.replace(\":\", \"-\").upper()\n",
        "locations = data.loc[data['MAC Address'] == mac]\n",
        "print(locations)\n"
      ],
      "metadata": {
        "id": "x2Do4TQNpHbn",
        "outputId": "1cc1a386-0c77-44b8-ebd5-8cf4debeb772",
        "colab": {
          "base_uri": "https://localhost:8080/"
        }
      },
      "execution_count": 36,
      "outputs": [
        {
          "output_type": "stream",
          "name": "stdout",
          "text": [
            "       Status     SSID  RSSI        MAC Address  Max RSSI place  \\\n",
            "12  Available  eduroam   -77  50-06-04-66-91-D1       -70    A1   \n",
            "34  Available  eduroam   -66  50-06-04-66-91-D1       -65    A1   \n",
            "8   Connected  eduroam   -50  50-06-04-66-91-D1       -48    A2   \n",
            "23  Connected  eduroam   -53  50-06-04-66-91-D1       -52    A2   \n",
            "36  Connected  eduroam   -41  50-06-04-66-91-D1       -41    A2   \n",
            "8   Available  eduroam   -70  50-06-04-66-91-D1       -69    A3   \n",
            "19  Available  eduroam   -81  50-06-04-66-91-D1       -70    A3   \n",
            "25  Available  eduroam   -65  50-06-04-66-91-D1       -63    A3   \n",
            "13  Available  eduroam   -72  50-06-04-66-91-D1       -72    E2   \n",
            "\n",
            "                       coord  \n",
            "12  [48.6246723,  2.4425536]  \n",
            "34  [48.6246723,  2.4425536]  \n",
            "8   [48.6246723,  2.4425536]  \n",
            "23  [48.6246723,  2.4425536]  \n",
            "36  [48.6246723,  2.4425536]  \n",
            "8   [48.6246723,  2.4425536]  \n",
            "19  [48.6246723,  2.4425536]  \n",
            "25  [48.6246723,  2.4425536]  \n",
            "13  [48.6246723,  2.4425536]  \n"
          ]
        }
      ]
    },
    {
      "cell_type": "code",
      "source": [
        "x = locations['Max RSSI']\n",
        "y = locations['place']\n",
        "\n",
        "print(x)\n",
        "print(y)"
      ],
      "metadata": {
        "id": "i8FrfD45pYZx",
        "outputId": "41b2dfd5-3598-4986-e219-8bd76f713891",
        "colab": {
          "base_uri": "https://localhost:8080/"
        }
      },
      "execution_count": 37,
      "outputs": [
        {
          "output_type": "stream",
          "name": "stdout",
          "text": [
            "12   -70\n",
            "34   -65\n",
            "8    -48\n",
            "23   -52\n",
            "36   -41\n",
            "8    -69\n",
            "19   -70\n",
            "25   -63\n",
            "13   -72\n",
            "Name: Max RSSI, dtype: int64\n",
            "12    A1\n",
            "34    A1\n",
            "8     A2\n",
            "23    A2\n",
            "36    A2\n",
            "8     A3\n",
            "19    A3\n",
            "25    A3\n",
            "13    E2\n",
            "Name: place, dtype: object\n"
          ]
        }
      ]
    },
    {
      "cell_type": "code",
      "source": [
        "localizer = KnnLocalizer(x, y, 1)\n",
        "deltas = localizer.fit_predict(np.array([[-72]]))\n",
        "print(deltas)\n",
        "local = [i[0][0] for i in deltas]\n",
        "print(local)\n",
        "\n",
        "#mean = get_mean_point(map)\n",
        "#print(mean)"
      ],
      "metadata": {
        "id": "XSS4mfUnhiUY",
        "colab": {
          "base_uri": "https://localhost:8080/"
        },
        "outputId": "c6b76653-f803-481c-902e-23c19ba2d4a3"
      },
      "execution_count": 39,
      "outputs": [
        {
          "output_type": "stream",
          "name": "stdout",
          "text": [
            "[-72]\n",
            "-70\n",
            "[-72]\n",
            "-65\n",
            "[-72]\n",
            "-48\n",
            "[-72]\n",
            "-52\n",
            "[-72]\n",
            "-41\n",
            "[-72]\n",
            "-69\n",
            "[-72]\n",
            "-70\n",
            "[-72]\n",
            "-63\n",
            "[-72]\n",
            "-72\n",
            "[[('E2', 0.0), ('A1', 2.0), ('A3', 2.0)]]\n",
            "['E2']\n"
          ]
        }
      ]
    },
    {
      "cell_type": "code",
      "source": [
        "plt.style.use('seaborn')\n",
        "plt.figure(figsize = (10,10))\n",
        "plt.scatter(pl_x, pl_y, marker= '*',s=100,edgecolors='black')\n",
        "plt.scatter(mean[0], mean[1], marker= '.',s=100,edgecolors='black')"
      ],
      "metadata": {
        "id": "qj7QKkJgYNRE"
      },
      "execution_count": null,
      "outputs": []
    },
    {
      "cell_type": "code",
      "source": [
        "distances = []\n",
        "for x in map:\n",
        "  distances.append(localizer.euclidean_distance(np.array(mean), np.array(x)))\n",
        "\n",
        "min_pos = distances.index(min(distances))\n",
        "pos = new_predictions[0][min_pos]\n",
        "print(pos[0][0])\n",
        "\n"
      ],
      "metadata": {
        "id": "yV1-OTWxcOj7"
      },
      "execution_count": null,
      "outputs": []
    },
    {
      "cell_type": "markdown",
      "source": [
        "# Comparison of Results"
      ],
      "metadata": {
        "id": "3yqsfqCLuNKn"
      }
    },
    {
      "cell_type": "code",
      "source": [
        "#Needs to compare the predictions with the test dataset\n",
        "new_predictions = np.asarray(new_predictions)\n",
        "print('Predictions made:\\n', new_predictions)\n",
        "print('Testing values\\n', y_test)\n",
        "n = len(y_test)\n",
        "\n",
        "new_predictions_2 = np.split(new_predictions, n)\n",
        "#print(new_predictions_2)\n",
        "\n",
        "y_test_equalized = [arr.flatten() for arr in y_test]\n",
        "print('Testing values equals\\n',y_test_equalized)\n",
        "\n",
        "new_predictions_equalized = [arr.flatten() for arr in new_predictions]\n",
        "print('Predictions made equals:\\n',new_predictions_equalized)\n",
        "\n",
        "mse2 = mean_squared_error(y_test_equalized, new_predictions_2)\n",
        "print('MSE:\\n', mse2)\n",
        " #Gives error, improves it pls"
      ],
      "metadata": {
        "id": "m3Yc3PckObXY"
      },
      "execution_count": null,
      "outputs": []
    },
    {
      "cell_type": "code",
      "source": [
        "\n",
        "#Needs to compare the predictions with the test dataset\n",
        "new_predictions = np.asarray(new_predictions)\n",
        "\n",
        "y_test_div = np.concatenate(y_test)\n",
        "new_predictions_div = np.concatenate(new_predictions)\n",
        "\n",
        "print(new_predictions_div)\n",
        "print(y_test_div)\n",
        "\n",
        "mse = mean_squared_error(y_test_div, new_predictions_div)\n",
        "print(mse) \n",
        "\n",
        " #I tried to concatenate the two arrays but I don't think the result is sufficient"
      ],
      "metadata": {
        "id": "ERO33V9fhsBp"
      },
      "execution_count": null,
      "outputs": []
    },
    {
      "cell_type": "code",
      "source": [
        "2.711674309998789e-07\n"
      ],
      "metadata": {
        "id": "zkJHp_dzRWEe"
      },
      "execution_count": null,
      "outputs": []
    },
    {
      "cell_type": "code",
      "source": [],
      "metadata": {
        "id": "qaKebkU0wgeN"
      },
      "execution_count": null,
      "outputs": []
    }
  ]
}